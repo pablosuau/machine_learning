{
 "cells": [
  {
   "cell_type": "code",
   "execution_count": 67,
   "metadata": {
    "collapsed": true
   },
   "outputs": [],
   "source": [
    "import numpy as np\n",
    "from sklearn.datasets import load_files\n",
    "from sklearn.feature_extraction.text import CountVectorizer, TfidfTransformer\n",
    "from sklearn.model_selection import train_test_split, cross_val_score, GridSearchCV\n",
    "from sklearn.naive_bayes import MultinomialNB\n",
    "from sklearn.metrics import classification_report\n",
    "from sklearn.pipeline import Pipeline\n",
    "from sklearn.svm import SVC\n",
    "import pickle"
   ]
  },
  {
   "cell_type": "markdown",
   "metadata": {},
   "source": [
    "## Basic model"
   ]
  },
  {
   "cell_type": "markdown",
   "metadata": {},
   "source": [
    "Explain how load_files extract the individual datasets and categories from the folder structure"
   ]
  },
  {
   "cell_type": "code",
   "execution_count": 2,
   "metadata": {},
   "outputs": [],
   "source": [
    "job_descriptions = load_files('data/training')"
   ]
  },
  {
   "cell_type": "markdown",
   "metadata": {},
   "source": [
    "Exaplin the struscture returned by load_files"
   ]
  },
  {
   "cell_type": "code",
   "execution_count": 3,
   "metadata": {},
   "outputs": [
    {
     "data": {
      "text/plain": [
       "b\"Software Developer- C#, Visual Studio, .Net, MVC- Chorley\\n\\nAbout the role\\n\\nRapid growth, expansion into new areas and demand from our customers has led to the need to expand our in-house software development team. We are now seeking a Software Developer to join the team. You will be responsible for playing a critical role in the development of new and existing applications and integrations in an agile environment.\\n\\nAbout Capita- Parking Eye\\n\\nWe are Capita, the UK's leading provider of business process management and integrated professional support service solutions. Through bespoke, quality solutions, we've helped countless organisations unlock value and maximise their potential. With access to our range of unique and diverse opportunities, offering real career advancement and progression, we can unlock your potential too.\\n\\nParkingEye (part of Capita) is the market leading car park management company. ParkingEye not only provide full circle car park management services but also real-time statistical and management information to clients across both the public and private sector utilising the latest in Automatic Number Plate Recognition technology. Managing the largest private car park management databases in Europe, our solutions are in place throughout the UK. Our solution ranges from large multi-node SQL Server databases, load balanced web applications and web services with thousands of data collection devices, touch screen kiosks, mobile applications and embedded vehicle systems out in the field.\\n\\nWhat you will do\\n\\nDesigning, developing, implementing, and releasing high quality custom software solutions\\nInvestigating (and resolve if appropriate) technical issues and support the BAU process\\nDesigning solutions in line with ParkingEye's requirements and modelling into software designs.\\nCarrying out transformation of software designs to programme logic.\\nAnalysing existing solutions to highlight areas for improvement\\nHelp improve our code quality through writing unit tests, automation and performing code reviews\\nWillingness to take on additional responsibility to ensure team success and quality solutions\\nTeam player that understands how their own work is important to the team's success\\nAbility to multitask across different projects\\nLead on discrete projects, development and design\\nProvide specialist information advice to other members of staff, managers and directors.\\nYour Experience Will Include:\\n\\nC#, Asp.Net MVC 4 and 5\\nExperience in Visual Studio 2013 and 2015\\nExperience working with Microsoft SQL Server (MS SQL Server 2012 preferable)\\nExperience with T-SQL including but not limited to writing stored procedures, cursors, variables, table variables, temp tables, indexing and understanding query plans\\nOO Programming using Design Patterns, Inversion of Control\\nHTML, CSS\\nJavaScript, JQuery\\nEntity Framework\\nDesired Skills\\n\\nSignalR, Redis Cache\\nBootstrap, AutoMapper\\nTDD\\nNServiceBus\\nBamboo\\nPHP, MySQL\\nWhat's in it for you?\\n\\nAt Capita, training and development aren't optional extras: they're how we do our job. We will motivate you to perform at your peak, recognising your achievements and rewarding them appropriately. As well as a generous basic salary we also give you holiday, pension scheme and access to voluntary benefit options including; child care vouchers, share plan schemes, life assurance, holiday buy and many more designed to suit your own personal lifestyle. All of this, in a professional but fun environment.\\n\\nWhat we hope you will do next\\n\\nHelp us find out more about you by completing our short application process - click apply now.\\n\\nFollow Capita on twitter @capitacareers\\nFollow Capita on facebook @careersatcapita\\n\\nCapita Resourcing welcome applications from all suitably qualified people regardless of gender, race, disability, age or sexual orientation.\\n\\nCapita Resourcing is a trading name of Capita Resourcing Ltd. Services offered are those of an Employment Agency and Employment Business. Applicants will be required to register with us.\\n\\nIf you are successful with your application, you will need complete Capita's vetting and screening checks. This will include, but not be limited to, Reference Checks, a Criminality Check, Financial Probity Check, Sanctions Check and Media Check.\\n\""
      ]
     },
     "execution_count": 3,
     "metadata": {},
     "output_type": "execute_result"
    }
   ],
   "source": [
    "job_descriptions.data[0]"
   ]
  },
  {
   "cell_type": "code",
   "execution_count": 4,
   "metadata": {},
   "outputs": [
    {
     "name": "stdout",
     "output_type": "stream",
     "text": [
      "1\n",
      "technical\n"
     ]
    }
   ],
   "source": [
    "print(job_descriptions.target[0])\n",
    "print(job_descriptions.target_names[job_descriptions.target[0]])"
   ]
  },
  {
   "cell_type": "code",
   "execution_count": 5,
   "metadata": {},
   "outputs": [
    {
     "data": {
      "text/plain": [
       "b'Redbooth Ltd require roofing joiners immediately \\n\\nRedbooth Ltd require roofing tilers immediately for works on new build housing projects around the stockton and north east areas. Must be time served experienced and proficient with slating and concrete roof tiling. \\n\\nPlease note this is an immediate start so please call us on 07510439507.\\n'"
      ]
     },
     "execution_count": 5,
     "metadata": {},
     "output_type": "execute_result"
    }
   ],
   "source": [
    "job_descriptions.data[31]"
   ]
  },
  {
   "cell_type": "code",
   "execution_count": 6,
   "metadata": {},
   "outputs": [
    {
     "name": "stdout",
     "output_type": "stream",
     "text": [
      "0\n",
      "non_technical\n"
     ]
    }
   ],
   "source": [
    "print(job_descriptions.target[31])\n",
    "print(job_descriptions.target_names[job_descriptions.target[31]])"
   ]
  },
  {
   "cell_type": "raw",
   "metadata": {},
   "source": [
    "Create a bag of words model http://scikit-learn.org/stable/tutorial/text_analytics/working_with_text_data.html (and that sklearn uses a sparse matrix representation).\n",
    "\n",
    "We also use frecuencies tfif"
   ]
  },
  {
   "cell_type": "code",
   "execution_count": 7,
   "metadata": {},
   "outputs": [],
   "source": [
    "X_train, X_test, y_train, y_test = train_test_split(job_descriptions.data, job_descriptions.target, test_size=0.3, random_state=0)"
   ]
  },
  {
   "cell_type": "code",
   "execution_count": 8,
   "metadata": {},
   "outputs": [
    {
     "data": {
      "text/plain": [
       "(33, 2475)"
      ]
     },
     "execution_count": 8,
     "metadata": {},
     "output_type": "execute_result"
    }
   ],
   "source": [
    "count_vect = CountVectorizer()\n",
    "X_train_counts = count_vect.fit_transform(X_train)\n",
    "X_train_counts.shape"
   ]
  },
  {
   "cell_type": "code",
   "execution_count": 9,
   "metadata": {},
   "outputs": [
    {
     "data": {
      "text/plain": [
       "(33, 2475)"
      ]
     },
     "execution_count": 9,
     "metadata": {},
     "output_type": "execute_result"
    }
   ],
   "source": [
    "tfidf_transformer = TfidfTransformer()\n",
    "X_train_tfidf = tfidf_transformer.fit_transform(X_train_counts)\n",
    "X_train_tfidf.shape"
   ]
  },
  {
   "cell_type": "markdown",
   "metadata": {},
   "source": [
    "Training code extracted from http://scikit-learn.org/stable/tutorial/text_analytics/working_with_text_data.html"
   ]
  },
  {
   "cell_type": "code",
   "execution_count": 10,
   "metadata": {
    "scrolled": false
   },
   "outputs": [],
   "source": [
    "clf = MultinomialNB().fit(X_train_tfidf, y_train)"
   ]
  },
  {
   "cell_type": "code",
   "execution_count": 11,
   "metadata": {
    "scrolled": false
   },
   "outputs": [],
   "source": [
    "X_test_counts = count_vect.transform(X_test)\n",
    "X_test_tfidf = tfidf_transformer.transform(X_test_counts)\n",
    "y_pred = clf.predict(X_test_tfidf)"
   ]
  },
  {
   "cell_type": "code",
   "execution_count": 12,
   "metadata": {},
   "outputs": [
    {
     "name": "stdout",
     "output_type": "stream",
     "text": [
      "               precision    recall  f1-score   support\n",
      "\n",
      "non_technical       1.00      0.38      0.55         8\n",
      "    technical       0.58      1.00      0.74         7\n",
      "\n",
      "  avg / total       0.81      0.67      0.63        15\n",
      "\n"
     ]
    }
   ],
   "source": [
    "print(classification_report(y_test, y_pred, labels=None, target_names=job_descriptions.target_names))"
   ]
  },
  {
   "cell_type": "markdown",
   "metadata": {},
   "source": [
    "## Using pipelines"
   ]
  },
  {
   "cell_type": "code",
   "execution_count": 13,
   "metadata": {},
   "outputs": [],
   "source": [
    "pip_clf = Pipeline([('vect', CountVectorizer()),\n",
    "                     ('tfidf', TfidfTransformer()),\n",
    "                     ('clf', MultinomialNB()),\n",
    "])"
   ]
  },
  {
   "cell_type": "code",
   "execution_count": 14,
   "metadata": {},
   "outputs": [
    {
     "data": {
      "text/plain": [
       "Pipeline(memory=None,\n",
       "     steps=[('vect', CountVectorizer(analyzer='word', binary=False, decode_error='strict',\n",
       "        dtype=<class 'numpy.int64'>, encoding='utf-8', input='content',\n",
       "        lowercase=True, max_df=1.0, max_features=None, min_df=1,\n",
       "        ngram_range=(1, 1), preprocessor=None, stop_words=None,\n",
       "        strip...inear_tf=False, use_idf=True)), ('clf', MultinomialNB(alpha=1.0, class_prior=None, fit_prior=True))])"
      ]
     },
     "execution_count": 14,
     "metadata": {},
     "output_type": "execute_result"
    }
   ],
   "source": [
    "pip_clf.fit(X_train, y_train) "
   ]
  },
  {
   "cell_type": "code",
   "execution_count": 15,
   "metadata": {},
   "outputs": [],
   "source": [
    "y_pred = pip_clf.predict(X_test)"
   ]
  },
  {
   "cell_type": "code",
   "execution_count": 16,
   "metadata": {},
   "outputs": [
    {
     "name": "stdout",
     "output_type": "stream",
     "text": [
      "               precision    recall  f1-score   support\n",
      "\n",
      "non_technical       1.00      0.38      0.55         8\n",
      "    technical       0.58      1.00      0.74         7\n",
      "\n",
      "  avg / total       0.81      0.67      0.63        15\n",
      "\n"
     ]
    }
   ],
   "source": [
    "print(classification_report(y_test, y_pred, labels=None, target_names=job_descriptions.target_names))"
   ]
  },
  {
   "cell_type": "markdown",
   "metadata": {},
   "source": [
    "## Model selection: cross validation"
   ]
  },
  {
   "cell_type": "code",
   "execution_count": 17,
   "metadata": {},
   "outputs": [
    {
     "name": "stdout",
     "output_type": "stream",
     "text": [
      "[0.80000000000000004, 0.13540064007726602]\n"
     ]
    }
   ],
   "source": [
    "cv_scores = cross_val_score(pip_clf, job_descriptions.data, job_descriptions.target, cv=10)\n",
    "print([np.mean(cv_scores), np.std(cv_scores)])"
   ]
  },
  {
   "cell_type": "markdown",
   "metadata": {},
   "source": [
    "## Model selection: grid search\n",
    "\n",
    "Introducing the tf_max and tf_min parameters"
   ]
  },
  {
   "cell_type": "code",
   "execution_count": 47,
   "metadata": {
    "collapsed": true
   },
   "outputs": [],
   "source": [
    "class TfidTransformerOptional(TfidfTransformer):\n",
    "    def __init__(self, activate=True):\n",
    "        super().__init__()\n",
    "        self.activate = activate\n",
    "    \n",
    "    def fit_transform(self, X, y=None):\n",
    "        if self.activate:\n",
    "            return super().fit_transform(X, y)\n",
    "        else:\n",
    "            return X\n",
    "        \n",
    "    def transform(self, X, y=None):\n",
    "        if self.activate:\n",
    "            return super().transform(X, y)\n",
    "        else:\n",
    "            return X"
   ]
  },
  {
   "cell_type": "code",
   "execution_count": 56,
   "metadata": {
    "scrolled": true
   },
   "outputs": [
    {
     "data": {
      "text/plain": [
       "GridSearchCV(cv=10, error_score='raise',\n",
       "       estimator=Pipeline(memory=None,\n",
       "     steps=[('vect', CountVectorizer(analyzer='word', binary=False, decode_error='strict',\n",
       "        dtype=<class 'numpy.int64'>, encoding='utf-8', input='content',\n",
       "        lowercase=True, max_df=1.0, max_features=None, min_df=1,\n",
       "        ngram_range=(1, 1), preprocessor=None, stop_words=None,\n",
       "        strip...formerOptional(activate=True)), ('clf', MultinomialNB(alpha=1.0, class_prior=None, fit_prior=True))]),\n",
       "       fit_params=None, iid=True, n_jobs=3,\n",
       "       param_grid=[{'vect__min_df': array([ 0. ,  0.1,  0.2,  0.3,  0.4,  0.5]), 'vect__max_df': array([ 0.6,  0.7,  0.8,  0.9,  1. ,  1.1]), 'tfidf__activate': [True, False], 'clf': [MultinomialNB(alpha=1.0, class_prior=None, fit_prior=True)]}, {'vect__min_df': array([ 0. ,  0.1,  0.2,  0.3,  0.4,  0.5]),...ty=False, random_state=None, shrinking=True,\n",
       "  tol=0.001, verbose=False)], 'clf__C': [0.5, 1, 1.5]}],\n",
       "       pre_dispatch='2*n_jobs', refit=True, return_train_score=True,\n",
       "       scoring=None, verbose=0)"
      ]
     },
     "execution_count": 56,
     "metadata": {},
     "output_type": "execute_result"
    }
   ],
   "source": [
    "pip_clf = Pipeline([('vect', CountVectorizer()),\n",
    "                    ('tfidf', TfidTransformerOptional()),\n",
    "                    ('clf', MultinomialNB()),\n",
    "])\n",
    "\n",
    "param_grid = [\n",
    "    {\n",
    "        'vect__min_df': np.arange(0,0.6,0.1),\n",
    "        'vect__max_df': np.arange(0.6,1.1,0.1),\n",
    "        'tfidf__activate': [True, False],\n",
    "        'clf': [MultinomialNB()],\n",
    "    },\n",
    "    {\n",
    "        'vect__min_df': np.arange(0,0.6,0.1),\n",
    "        'vect__max_df': np.arange(0.6,1.1,0.1),\n",
    "        'tfidf__activate': [True, False],\n",
    "        'clf': [SVC()],\n",
    "        'clf__C': [0.5, 1, 1.5]\n",
    "    },\n",
    "]\n",
    "\n",
    "grid = GridSearchCV(pip_clf, cv=10, n_jobs=3, param_grid=param_grid)\n",
    "grid.fit(job_descriptions.data, job_descriptions.target)"
   ]
  },
  {
   "cell_type": "code",
   "execution_count": 64,
   "metadata": {
    "scrolled": false
   },
   "outputs": [
    {
     "name": "stdout",
     "output_type": "stream",
     "text": [
      "[0.875, 0.85416666666666663, 0.85416666666666663, 0.79166666666666663, 0.60416666666666663, 0.58333333333333337, 0.875, 0.85416666666666663, 0.85416666666666663, 0.8125, 0.625, 0.5625, 0.875, 0.83333333333333337, 0.83333333333333337, 0.8125, 0.66666666666666663, 0.625, 0.83333333333333337, 0.85416666666666663, 0.85416666666666663, 0.8125, 0.70833333333333337, 0.6875, 0.85416666666666663, 0.85416666666666663, 0.8125, 0.75, 0.6875, 0.66666666666666663, 0.8125, 0.875, 0.79166666666666663, 0.75, 0.66666666666666663, 0.66666666666666663, 0.875, 0.85416666666666663, 0.875, 0.83333333333333337, 0.47916666666666669, 0.47916666666666669, 0.875, 0.85416666666666663, 0.89583333333333337, 0.8125, 0.6875, 0.64583333333333337, 0.875, 0.85416666666666663, 0.85416666666666663, 0.8125, 0.66666666666666663, 0.625, 0.875, 0.85416666666666663, 0.85416666666666663, 0.79166666666666663, 0.72916666666666663, 0.70833333333333337, 0.85416666666666663, 0.85416666666666663, 0.875, 0.79166666666666663, 0.70833333333333337, 0.66666666666666663, 0.83333333333333337, 0.875, 0.875, 0.77083333333333337, 0.72916666666666663, 0.6875, 0.875, 0.85416666666666663, 0.875, 0.79166666666666663, 0.58333333333333337, 0.54166666666666663, 0.875, 0.85416666666666663, 0.83333333333333337, 0.83333333333333337, 0.5625, 0.625, 0.875, 0.85416666666666663, 0.8125, 0.8125, 0.625, 0.6875, 0.89583333333333337, 0.83333333333333337, 0.83333333333333337, 0.79166666666666663, 0.75, 0.72916666666666663, 0.89583333333333337, 0.83333333333333337, 0.83333333333333337, 0.70833333333333337, 0.64583333333333337, 0.66666666666666663, 0.875, 0.83333333333333337, 0.70833333333333337, 0.625, 0.625, 0.64583333333333337, 0.58333333333333337, 0.8125, 0.77083333333333337, 0.75, 0.70833333333333337, 0.70833333333333337, 0.60416666666666663, 0.8125, 0.79166666666666663, 0.79166666666666663, 0.70833333333333337, 0.77083333333333337, 0.625, 0.79166666666666663, 0.75, 0.77083333333333337, 0.75, 0.75, 0.625, 0.79166666666666663, 0.79166666666666663, 0.75, 0.70833333333333337, 0.72916666666666663, 0.72916666666666663, 0.79166666666666663, 0.77083333333333337, 0.75, 0.72916666666666663, 0.72916666666666663, 0.8125, 0.77083333333333337, 0.75, 0.72916666666666663, 0.6875, 0.64583333333333337, 0.875, 0.85416666666666663, 0.875, 0.79166666666666663, 0.58333333333333337, 0.58333333333333337, 0.875, 0.85416666666666663, 0.83333333333333337, 0.83333333333333337, 0.5625, 0.625, 0.875, 0.85416666666666663, 0.8125, 0.8125, 0.625, 0.6875, 0.89583333333333337, 0.83333333333333337, 0.83333333333333337, 0.79166666666666663, 0.75, 0.72916666666666663, 0.89583333333333337, 0.83333333333333337, 0.83333333333333337, 0.70833333333333337, 0.64583333333333337, 0.66666666666666663, 0.875, 0.83333333333333337, 0.70833333333333337, 0.625, 0.625, 0.64583333333333337, 0.60416666666666663, 0.83333333333333337, 0.77083333333333337, 0.77083333333333337, 0.6875, 0.70833333333333337, 0.625, 0.83333333333333337, 0.79166666666666663, 0.77083333333333337, 0.72916666666666663, 0.72916666666666663, 0.6875, 0.8125, 0.8125, 0.79166666666666663, 0.75, 0.77083333333333337, 0.70833333333333337, 0.8125, 0.79166666666666663, 0.79166666666666663, 0.77083333333333337, 0.75, 0.77083333333333337, 0.79166666666666663, 0.83333333333333337, 0.79166666666666663, 0.77083333333333337, 0.77083333333333337, 0.8125, 0.8125, 0.8125, 0.75, 0.72916666666666663, 0.70833333333333337, 0.875, 0.85416666666666663, 0.875, 0.79166666666666663, 0.58333333333333337, 0.625, 0.875, 0.85416666666666663, 0.83333333333333337, 0.83333333333333337, 0.5625, 0.625, 0.875, 0.85416666666666663, 0.8125, 0.8125, 0.625, 0.6875, 0.89583333333333337, 0.83333333333333337, 0.83333333333333337, 0.79166666666666663, 0.75, 0.72916666666666663, 0.89583333333333337, 0.83333333333333337, 0.83333333333333337, 0.70833333333333337, 0.64583333333333337, 0.66666666666666663, 0.875, 0.83333333333333337, 0.70833333333333337, 0.625, 0.625, 0.64583333333333337, 0.6875, 0.8125, 0.79166666666666663, 0.77083333333333337, 0.70833333333333337, 0.70833333333333337, 0.6875, 0.83333333333333337, 0.79166666666666663, 0.72916666666666663, 0.72916666666666663, 0.72916666666666663, 0.6875, 0.8125, 0.8125, 0.79166666666666663, 0.77083333333333337, 0.77083333333333337, 0.75, 0.8125, 0.8125, 0.79166666666666663, 0.77083333333333337, 0.77083333333333337, 0.79166666666666663, 0.83333333333333337, 0.83333333333333337, 0.83333333333333337, 0.77083333333333337, 0.77083333333333337, 0.8125, 0.79166666666666663, 0.8125, 0.79166666666666663, 0.72916666666666663, 0.72916666666666663]\n",
      "0.895833333333\n",
      "0.2\n",
      "0.7\n",
      "MultinomialNB(alpha=1.0, class_prior=None, fit_prior=True)\n",
      "--\n",
      "False\n"
     ]
    }
   ],
   "source": [
    "mean_scores = list(grid.cv_results_['mean_test_score'])\n",
    "print(mean_scores)\n",
    "index_max_score = mean_scores.index(max(mean_scores))\n",
    "print(mean_scores[index_max_score])\n",
    "print(grid.cv_results_['param_vect__min_df'][index_max_score])\n",
    "print(grid.cv_results_['param_vect__max_df'][index_max_score])\n",
    "print(grid.cv_results_['param_clf'][index_max_score])\n",
    "print(grid.cv_results_['param_clf__C'][index_max_score])\n",
    "print(grid.cv_results_['param_tfidf__activate'][index_max_score])"
   ]
  },
  {
   "cell_type": "markdown",
   "metadata": {},
   "source": [
    "Using all the training data to traing a model using the best parameters, and storing it into disk"
   ]
  },
  {
   "cell_type": "code",
   "execution_count": 81,
   "metadata": {},
   "outputs": [],
   "source": [
    "pip_clf = Pipeline([('vect', CountVectorizer(min_df = 0.2, max_df = 0.7)),\n",
    "                    ('tfidf', TfidTransformerOptional(activate=False)),\n",
    "                    ('clf', MultinomialNB()),\n",
    "])\n",
    "pip_clf.fit(job_descriptions.data, job_descriptions.target) \n",
    "\n",
    "pickle.dump([pip_clf, job_descriptions.target_names], open('models/model.p', 'wb'))"
   ]
  },
  {
   "cell_type": "markdown",
   "metadata": {},
   "source": [
    "## Testing our data with the validation model"
   ]
  },
  {
   "cell_type": "code",
   "execution_count": 82,
   "metadata": {
    "scrolled": false
   },
   "outputs": [
    {
     "name": "stdout",
     "output_type": "stream",
     "text": [
      "------------------------------------------ non_technical_01.txt ------------------------------------------\n",
      "Predicted class: non_technical\n",
      "------------------------------------------------------------------------------------\n",
      " \n",
      "WE HAVE A VACANCY FOR A CAR MECHANIC AT OUR CAR SALES IN LLANTWIT FARDRE.EXPERIENCE IS ESSENTIAL AS WILL BE DOING ALL ASPECTS OF MECHANICS INCLUDING HEAD GASKETS GEARBOX CHANGE AND CLUTCHES.DUTIES ALSO INCLUDE SERVICING CHANGING TYRES AND WORKING AS PART OF A TEAM TO REACH OUR TARGETS.A FULL DRIVING LICENSE IS ALSO VITAL AS THE JOB INVOLVES DRIVING BETWEEN OUR CAR SALES AND TO THE MOT STATION.THE POSITION IS FULL TIME AND PERMANENT HOURS AND WAGES TO BE DISCUSSED AT INTERVIEW PROCESS.PLEASE CALL REVOLUTION CARS FOR MORE DETAILS\n",
      "\n",
      "------------------------------------------ non_technical_02.txt ------------------------------------------\n",
      "Predicted class: technical\n",
      "------------------------------------------------------------------------------------\n",
      " \n",
      "Over our 25 years of trading, Axis has secured an impressive client base and delivered contracts of varying size and value.  Our impressive portfolio now exceeds 3000 units, growing daily and includes blue-chip companies, national institutions, hotels, local authorities and banks.  We offer complete design builds of installations to bespoke requirements, such as our Inclinator at the Millennium Bridge in London; as well as maintenance contracts, service contracts and complete refurbishments to existing elevators.  We boast a proven track record of reliability and longevity, conforming to the highest British Standards and Lift Regulations.\n",
      "  \n",
      " Axis is currently seeking an experienced Repair Lift Engineer to join our busy repair team. Ideally, you will be based near the M3 or M4 Corridor, so Slough, Bracknell, Maidenhead, Newbury, Swindon, Bath, Bristol, Farnborough, Basingstoke, Winchester and Eastleigh: you will be responsible for major repairs across these locations.  You will be qualified to at least NVQ 3 in Lift Engineering (or equivalent) and have in-depth knowledge of a variety of different makes of equipment.  Whilst you must be a team player, it is essential that as a repair engineer, you can also work on your own initiative. You will show us that you are organised, hardworking and loyal, promoting and working to the required company Health and Safety standards, at all times. \n",
      "  \n",
      " This is an excellent opportunity for an ambitious Lift Engineer who is looking to develop their career with a world renowned company.  We are interested in receiving applications from Lift Engineers, Escalator Engineers, Principle Engineers, Senior Engineers or Field Engineers who live in the M3/M4 Corridor and have a valid driving license\n",
      "  \n",
      " We are committed to the continuing development of every employee; therefore we encourage and strongly support career progression, with opportunities for promotion within our organisation and throughout the wider UTC global group.\n",
      "  \n",
      " Axis is an Equal Opportunity Employer.\n",
      " Please note that due to the high volume of responses that we receive for opportunities across the UK, we are unfortunately no longer able to respond to each application directly or to provide further individual feedback. We will however contact you should we select you to attend an interview. Should you not receive a reply from us within 4 weeks, please assume that your application on this occasion has proved unsuccessful.\n",
      "\n",
      "------------------------------------------ non_technical_03.txt ------------------------------------------\n",
      "Predicted class: non_technical\n",
      "------------------------------------------------------------------------------------\n",
      " \n",
      "Working 8am - 5pm Monday - Friday, \n",
      " Must be qualificatied and must hold the 17th edition addition certificate, \n",
      " Must have current registration BS761:2008\n",
      " Must be able to issue NICEIC certification this would be an advantage\n",
      " Experience in maintainance work to be able to do complete re-wiring on building sites, ability to install intruder and fire alarms would be an advantage.\n",
      " Must be able to run catsize cables, telephone,internet cables, air condition cables, fire alarm cables\n",
      " \n",
      " Must have on tools \n",
      " \n",
      " If interested contact Naz 07508170169, or send text message with info re experience\n",
      "\n",
      "------------------------------------------ technical_01.txt ------------------------------------------\n",
      "Predicted class: non_technical\n",
      "------------------------------------------------------------------------------------\n",
      " \n",
      "The role holder will be comfortable writing code in any language that can utilize using their skills to auto processes, rebuild old solutions using best practice or helping the rest of the team. They will need to adapt and enjoy the challenge of using anything possible to deliver data quality.\n",
      " \n",
      " Any of these languages is essential:\n",
      " \n",
      " Java\n",
      " .Net\n",
      " Python\n",
      " C\n",
      " C#\n",
      " C++\n",
      " JavaScript\n",
      " Description:\n",
      " \n",
      " Experience working in a project environment\n",
      " \n",
      " Previous work on databases essential.\n",
      " \n",
      " Developing new and improving existing controls as required\n",
      " \n",
      " Performing testing as required\n",
      "\n",
      "------------------------------------------ technical_02.txt ------------------------------------------\n",
      "Predicted class: technical\n",
      "------------------------------------------------------------------------------------\n",
      " \n",
      "Technical Data Analyst, Contract, Immediate Start, Weybridge \n",
      " \n",
      " Your new company\n",
      " Large Government Department currently undergoing major digital change and transformation programme. \n",
      " \n",
      " Your new role\n",
      " You will be involved in the planning, preparation and migration of data from legacy systems new solutions. \n",
      " You will be expected to support and take ownership of data analysis activities. \n",
      " You will support projects in engaging with stakeholders to negotiate timing and approach to the data migration. \n",
      " \n",
      " What you'll need to succeed\n",
      " You will have experience as a data analyst.\n",
      " You will have strong stakeholder management skills.\n",
      " You need extensive experience in describing complex data issues and their implications in business terms to non technical language. \n",
      " \n",
      " What you'll get in return\n",
      " Long Contract with competitive daily rate. \n",
      " You will be exposed to a major digital change and transformation project. \n",
      " \n",
      " What you need to do now\n",
      " If you're interested in this role, click 'apply now' to forward an up-to-date copy of your CV, or call us now.\n",
      " If this job isn't quite right for you but you are looking for a new position, please contact us for a confidential discussion on your career.\n",
      " \n",
      " Hays Specialist Recruitment Limited acts as an employment agency for permanent recruitment and employment business for the supply of temporary workers. By applying for this job you accept the T&C's, Privacy Policy and Disclaimers which can be found at hays.co.uk\n",
      "\n",
      "------------------------------------------ technical_03.txt ------------------------------------------\n",
      "Predicted class: technical\n",
      "------------------------------------------------------------------------------------\n",
      " \n",
      "MoJ are looking for talented people to join our digital team in London. You’ll take the lead in creating world-class digital services to transform the UK’s justice system.\n",
      " \n",
      " Working closely in teams, you’ll use the latest cloud and digital technologies to make rapid and meaningful improvements to public services. Keeping a relentless focus on user needs, you’ll make the justice system easier to use and help people do the things they need to do.\n",
      " \n",
      " Your work building better digital services has the potential to impact millions of people across the UK in a positive way.\n",
      " \n",
      " MoJ team has over 150 staff, with experts in web development, design and user research, and works with around 50 organisations, including the courts service, prison service and Government Digital Service. \n",
      " \n",
      " The key purpose of the role is to:\n",
      " \n",
      " Enable MoJ software development teams to develop quality services that modernise the way the justice system works for citizens, and empower citizens to easily engage with justice. Through architecting and building highly-available and resilient container, deployment, and monitoring platforms, you will be helping teams to rapidly prototype, deliver, and run, high-impact and high-value services for 21st century digital government.\n",
      " \n",
      " What you’ll be doing: \n",
      " \n",
      " • Supporting development teams with application configuration for deployment, monitoring and other automation\n",
      " \n",
      " • Architecting and building modern cloud infrastructure to host essential government services for citizens, ensuring highly available, resilient applications.\n",
      " \n",
      " • Operational management of Linux servers, delivering a complex web application stack\n",
      " \n",
      " • Building and configuring new server platforms and the automated tooling to do so\n",
      " \n",
      " • Working with developers to test, debug and troubleshoot issues and problems\n",
      " \n",
      " • Testing, debugging and troubleshooting of platform level problems\n",
      " \n",
      " • Supporting development teams with configuring applications for deployment\n",
      " \n",
      " • Work with third-party providers and government departments to support a variety of integrations\n",
      " \n",
      " • Working with product teams on a range of tools and services, improving products to meet user needs\n",
      " \n",
      " • Participating in sprint planning to work with developers and project teams to ensure projects are deployable and monitorable from the outside\n",
      " \n",
      " • As part of the team you will be expected to participate some of the 2nd line in-house support and Out-of-Hours support rotas and will be compensated for doing so. \n",
      " \n",
      " \n",
      " \n",
      " \n",
      " Requirements\n",
      " OUTSIDE IR35.\n",
      " CV Submission Deadline: 29/11/17 @11:00.\n",
      " \n",
      " Skills & Qualifications\n",
      " \n",
      " Essential\n",
      " \n",
      " • Experience configuring and managing Linux servers for serving a dynamic website\n",
      " \n",
      " • Experience debugging a complex multi-server service\n",
      " \n",
      " • Scripting or basic programming skills\n",
      " \n",
      " • Familiarity with network protocols - TCP/IP, HTTP, SSL, etc.\n",
      " \n",
      " • Deploying and configuring machines in a cloud environment\n",
      " \n",
      " • Understanding continuous integration\n",
      " \n",
      " • Comfortable with configuration management tools: at least one of Salt, Chef, or Puppet\n",
      " \n",
      " • Previous experience deploying web services in Ruby or Python; or previous experience developing web applications in Ruby or Python\n",
      " \n",
      " • Experience working in an agile environment \n",
      " \n",
      " • Knowledge of the use of version control systems such as git or subversion\n",
      " \n",
      " Desirable\n",
      " \n",
      " • Understanding of techniques for management of encryption keys and certificates\n",
      " \n",
      " • Knowledge of the principles underlying public/private key encryption schemes.\n",
      " \n",
      " • Installation and management of open source monitoring tools\n",
      " \n",
      " • Experience with open source solutions and community\n",
      "\n"
     ]
    }
   ],
   "source": [
    "files = ['non_technical_01.txt', 'non_technical_02.txt', 'non_technical_03.txt',\n",
    "         'technical_01.txt', 'technical_02.txt', 'technical_03.txt']\n",
    "for fil in files:\n",
    "    with open('data/validation/' + fil, 'r') as f:\n",
    "        text = [' '.join(f.readlines())] # The input to the pipeline has to be an array of documents\n",
    "                                           # even if we are only planning to process a single document\n",
    "        pred = pip_clf.predict(text)\n",
    "        \n",
    "        h = '------------------------------------------'\n",
    "        print(h + ' ' + fil + ' ' + h)\n",
    "        print('Predicted class: ' + job_descriptions.target_names[pred[0]])\n",
    "        print(h + h)\n",
    "        print(' ')\n",
    "        print(text[0])"
   ]
  },
  {
   "cell_type": "markdown",
   "metadata": {},
   "source": [
    "## Conclusions\n",
    "\n",
    "Several things to improve. Didn't do proper model selection with the Bayes classifier (parameter alpha). Didn't tokenize. Dataset is very small. We could label automatically basically on searching skills on universal jobmatch, rather than going document per document. Biased (Lift engineer as technical, should be non-techinical, but many techincal jobs have the word engineer in it, whereas non-technical jobs in the training dataset didnt have it.) The java developer is non-technical maybe due to the short length and many of the technology words probably discarded. "
   ]
  },
  {
   "cell_type": "code",
   "execution_count": null,
   "metadata": {
    "collapsed": true
   },
   "outputs": [],
   "source": []
  }
 ],
 "metadata": {
  "kernelspec": {
   "display_name": "Python 3",
   "language": "python",
   "name": "python3"
  },
  "language_info": {
   "codemirror_mode": {
    "name": "ipython",
    "version": 3
   },
   "file_extension": ".py",
   "mimetype": "text/x-python",
   "name": "python",
   "nbconvert_exporter": "python",
   "pygments_lexer": "ipython3",
   "version": "3.6.2"
  }
 },
 "nbformat": 4,
 "nbformat_minor": 2
}
