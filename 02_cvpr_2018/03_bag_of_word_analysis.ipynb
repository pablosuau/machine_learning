{
 "cells": [
  {
   "cell_type": "code",
   "execution_count": null,
   "metadata": {},
   "outputs": [],
   "source": [
    "%matplotlib inline\n",
    "\n",
    "import glob\n",
    "import numpy as np\n",
    "import pandas as pd\n",
    "import matplotlib.pyplot as plt\n",
    "import matplotlib.cm as cm\n",
    "from tqdm import tqdm\n",
    "from sklearn.feature_extraction.text import TfidfVectorizer\n",
    "from sklearn.decomposition import TruncatedSVD\n",
    "from sklearn.manifold import TSNE\n",
    "from sklearn.cluster import KMeans\n",
    "from sklearn.metrics import silhouette_samples, silhouette_score\n",
    "from sklearn.cluster import DBSCAN"
   ]
  },
  {
   "cell_type": "markdown",
   "metadata": {},
   "source": [
    "In this notebook I practice with the different elements of what I will put together as a pipeline to provide me with a categorisation of CVPR 2018 papers. The process will be based on representing the papers by means of a bag of words approach."
   ]
  },
  {
   "cell_type": "markdown",
   "metadata": {},
   "source": [
    "## Bag of words model"
   ]
  },
  {
   "cell_type": "code",
   "execution_count": null,
   "metadata": {},
   "outputs": [],
   "source": [
    "# Selecting the papers to process (see notebook 2)\n",
    "papers = sorted(glob.glob('data/*.txt'))\n",
    "df = pd.DataFrame(columns=['paper', 'len'], index=range(len(papers)))\n",
    "\n",
    "i = 0\n",
    "for paper in papers:\n",
    "    with open(paper, 'r') as f:\n",
    "        text = f.readlines()\n",
    "    df.iloc[i, :] = [paper, len(text[0])]\n",
    "    i = i + 1\n",
    "df = df[~(df['len'] < 5000) & ~(df['len'] > 80000)]"
   ]
  },
  {
   "cell_type": "code",
   "execution_count": null,
   "metadata": {},
   "outputs": [],
   "source": [
    "papers = df.paper.values.tolist()"
   ]
  },
  {
   "cell_type": "code",
   "execution_count": null,
   "metadata": {},
   "outputs": [],
   "source": [
    "count_vect = TfidfVectorizer(input='filename', max_df = 0.7, min_df = 0.3)\n",
    "X_freq = count_vect.fit_transform(papers)\n",
    "X_freq.shape"
   ]
  },
  {
   "cell_type": "code",
   "execution_count": null,
   "metadata": {},
   "outputs": [],
   "source": [
    "count_vect.vocabulary_"
   ]
  },
  {
   "cell_type": "code",
   "execution_count": null,
   "metadata": {},
   "outputs": [],
   "source": [
    "X_freq[0,1]"
   ]
  },
  {
   "cell_type": "markdown",
   "metadata": {},
   "source": [
    "## LSA"
   ]
  },
  {
   "cell_type": "code",
   "execution_count": null,
   "metadata": {},
   "outputs": [],
   "source": [
    "X_lsa = TruncatedSVD(n_components=15, random_state=0).fit_transform(X_freq)"
   ]
  },
  {
   "cell_type": "markdown",
   "metadata": {},
   "source": [
    "## Paper similarity"
   ]
  },
  {
   "cell_type": "code",
   "execution_count": null,
   "metadata": {},
   "outputs": [],
   "source": [
    "X_embedded = TSNE(n_components=2).fit_transform(X_lsa)"
   ]
  },
  {
   "cell_type": "code",
   "execution_count": null,
   "metadata": {},
   "outputs": [],
   "source": [
    "fig, ax = plt.subplots()\n",
    "ax.scatter(X_embedded[:,0], X_embedded[:,1])\n",
    "fig.set_figwidth(16)\n",
    "fig.set_figheight(16)"
   ]
  },
  {
   "cell_type": "markdown",
   "metadata": {},
   "source": [
    "## Clustering"
   ]
  },
  {
   "cell_type": "code",
   "execution_count": null,
   "metadata": {},
   "outputs": [],
   "source": [
    "# Model selection\n",
    "RANGE_K = range(2, 100)\n",
    "best_kmeans = None\n",
    "max_shil = -1\n",
    "shils = []\n",
    "for k in tqdm(RANGE_K):\n",
    "    kmeans = KMeans(n_clusters=k, random_state=0).fit(X_embedded)\n",
    "    shil = silhouette_score(X_embedded, kmeans.labels_)\n",
    "    shils.append(shil)\n",
    "    if shil > max_shil:\n",
    "        max_shil = shil\n",
    "        best_kmeans = kmeans\n",
    "kmeans = best_kmeans"
   ]
  },
  {
   "cell_type": "code",
   "execution_count": null,
   "metadata": {},
   "outputs": [],
   "source": [
    "fig, ax = plt.subplots()\n",
    "ax.plot(RANGE_K, shils)"
   ]
  },
  {
   "cell_type": "code",
   "execution_count": null,
   "metadata": {},
   "outputs": [],
   "source": [
    "fig, ax = plt.subplots()\n",
    "ax.scatter(X_embedded[:,0], X_embedded[:,1], c = kmeans.labels_, cmap=\"gist_rainbow\")\n",
    "i = 0\n",
    "for c in kmeans.cluster_centers_:\n",
    "    plt.annotate(\n",
    "        str(i),\n",
    "        xy=(c[0], c[1]), xytext=(0,0),\n",
    "        textcoords='offset points', ha='center', va='center',\n",
    "        bbox=dict(boxstyle='round,pad=0.5', fc='white', alpha=0.5))\n",
    "    i = i + 1\n",
    "fig.set_figwidth(16)\n",
    "fig.set_figheight(16)"
   ]
  },
  {
   "cell_type": "code",
   "execution_count": null,
   "metadata": {
    "scrolled": false
   },
   "outputs": [],
   "source": [
    "for i in np.unique(kmeans.labels_.tolist()):\n",
    "    indexes = np.where(kmeans.labels_ == i)\n",
    "    papers_cluster = np.array(papers)[indexes].tolist()\n",
    "    print('CLUSTER ' + str(i))\n",
    "    for p in papers_cluster:\n",
    "        print('   ' + p.replace('data/', ''))\n",
    "    print('=====================')"
   ]
  },
  {
   "cell_type": "code",
   "execution_count": null,
   "metadata": {},
   "outputs": [],
   "source": [
    "# Overall clustering score\n",
    "silhouette_score(X_embedded, kmeans.labels_)"
   ]
  },
  {
   "cell_type": "code",
   "execution_count": null,
   "metadata": {},
   "outputs": [],
   "source": [
    "# Silhouette score per sample\n",
    "# User to calculate the mean silouette score for each cluster\n",
    "scores = silhouette_samples(X_embedded, kmeans.labels_)\n",
    "df_scores = df.copy()\n",
    "df_scores['label'] = kmeans.labels_\n",
    "df_scores['shil'] = scores\n",
    "df_scores.groupby('label').mean().sort_values(by='shil', ascending=False)"
   ]
  },
  {
   "cell_type": "markdown",
   "metadata": {},
   "source": [
    "## DBSCAN"
   ]
  },
  {
   "cell_type": "code",
   "execution_count": null,
   "metadata": {
    "scrolled": true
   },
   "outputs": [],
   "source": [
    "RANGE_EPS = np.arange(0.01, 5, 0.01)\n",
    "RANGE_MIN_SAMPLES = range(3,50)\n",
    "parameters = []\n",
    "for eps in RANGE_EPS:\n",
    "    for min_samples in RANGE_MIN_SAMPLES:\n",
    "        parameters.append([eps, min_samples])\n",
    "\n",
    "best_dbscan = None\n",
    "max_shil = -1\n",
    "shils = []\n",
    "for i in tqdm(range(len(parameters))):\n",
    "    dbscan = DBSCAN(eps=parameters[i][0], min_samples=parameters[i][1]).fit(X_embedded)\n",
    "    if len(np.unique(dbscan.labels_).tolist()) > 1:\n",
    "        shil = silhouette_score(X_embedded, dbscan.labels_)\n",
    "        shils.append(shil)\n",
    "        if shil > max_shil:\n",
    "            max_shil = shil\n",
    "            best_dbscan = dbscan\n",
    "    else:\n",
    "        shils.append(-1)\n",
    "dbscan = best_dbscan"
   ]
  },
  {
   "cell_type": "code",
   "execution_count": null,
   "metadata": {},
   "outputs": [],
   "source": [
    "fig, ax = plt.subplots()\n",
    "ax.scatter(X_embedded[:,0], X_embedded[:,1], c = dbscan.labels_, cmap=\"gist_rainbow\")\n",
    "\n",
    "labels = np.unique(dbscan.labels_).tolist()\n",
    "\n",
    "for i in range(len(labels)):\n",
    "    if labels[i] != -1:\n",
    "        center = [np.mean(X_embedded[dbscan.labels_ == labels[i], 0]), \n",
    "                  np.mean(X_embedded[dbscan.labels_ == labels[i], 1])]\n",
    "        plt.annotate(\n",
    "            str(labels[i]),\n",
    "            xy=(center[0], center[1]), xytext=(0,0),\n",
    "            textcoords='offset points', ha='center', va='center',\n",
    "            bbox=dict(boxstyle='round,pad=0.5', fc='white', alpha=0.5))\n",
    "fig.set_figwidth(16)\n",
    "fig.set_figheight(16)"
   ]
  },
  {
   "cell_type": "code",
   "execution_count": null,
   "metadata": {},
   "outputs": [],
   "source": [
    "# Overall clustering score\n",
    "silhouette_score(X_embedded, dbscan.labels_)"
   ]
  },
  {
   "cell_type": "code",
   "execution_count": null,
   "metadata": {},
   "outputs": [],
   "source": [
    "# Silhouette score per sample\n",
    "# User to calculate the mean silouette score for each cluster\n",
    "scores = silhouette_samples(X_embedded, dbscan.labels_)\n",
    "df_scores = df.copy()\n",
    "df_scores['label'] = dbscan.labels_\n",
    "df_scores['shil'] = scores\n",
    "df_scores.groupby('label').mean().sort_values(by='shil', ascending=False)"
   ]
  },
  {
   "cell_type": "markdown",
   "metadata": {},
   "source": [
    "## Conclusion\n",
    "\n",
    "I am ready to put all of this together into a pipeline in order to apply model selection. These are the parameters I have to deal with:\n",
    "\n",
    "- min_df and max_df in TfidfVectorizer\n",
    "- n_components in TruncatedSVD\n",
    "- n_clusters in KMeans, or eps and min_samples in DBSCAN"
   ]
  },
  {
   "cell_type": "code",
   "execution_count": null,
   "metadata": {},
   "outputs": [],
   "source": []
  }
 ],
 "metadata": {
  "kernelspec": {
   "display_name": "Python 3",
   "language": "python",
   "name": "python3"
  },
  "language_info": {
   "codemirror_mode": {
    "name": "ipython",
    "version": 3
   },
   "file_extension": ".py",
   "mimetype": "text/x-python",
   "name": "python",
   "nbconvert_exporter": "python",
   "pygments_lexer": "ipython3",
   "version": "3.6.4"
  }
 },
 "nbformat": 4,
 "nbformat_minor": 2
}
