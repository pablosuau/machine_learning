{
 "cells": [
  {
   "cell_type": "code",
   "execution_count": null,
   "metadata": {},
   "outputs": [],
   "source": [
    "%matplotlib inline\n",
    "\n",
    "import glob\n",
    "import numpy as np\n",
    "import pandas as pd\n",
    "import matplotlib.pyplot as plt\n",
    "import matplotlib.cm as cm\n",
    "from sklearn.feature_extraction.text import TfidfVectorizer\n",
    "from sklearn.decomposition import LatentDirichletAllocation\n",
    "from sklearn.manifold import TSNE\n",
    "from sklearn.cluster import KMeans\n",
    "from sklearn.metrics import silhouette_samples, silhouette_score\n",
    "from sklearn.cluster import DBSCAN"
   ]
  },
  {
   "cell_type": "markdown",
   "metadata": {},
   "source": [
    "In this notebook we will run a simple bag of word analysis of the papers:\n",
    "\n",
    "- Extract a bag of words representation of the papers\n",
    "- Cluster papers\n",
    "- Visualisation of the clustered labels\n",
    "- Manually annotating each cluster to identify research topics in CVPR"
   ]
  },
  {
   "cell_type": "markdown",
   "metadata": {},
   "source": [
    "## Bag of words model"
   ]
  },
  {
   "cell_type": "code",
   "execution_count": null,
   "metadata": {},
   "outputs": [],
   "source": [
    "# Selecting the papers to process (see notebook 2)\n",
    "papers = sorted(glob.glob('data/*.txt'))\n",
    "df = pd.DataFrame(columns=['paper', 'len'], index=range(len(papers)))\n",
    "\n",
    "i = 0\n",
    "for paper in papers:\n",
    "    with open(paper, 'r') as f:\n",
    "        text = f.readlines()\n",
    "    df.iloc[i, :] = [paper, len(text[0])]\n",
    "    i = i + 1\n",
    "df = df[~(df['len'] < 5000) & ~(df['len'] > 80000)]"
   ]
  },
  {
   "cell_type": "code",
   "execution_count": null,
   "metadata": {},
   "outputs": [],
   "source": [
    "papers = df.paper.values.tolist()"
   ]
  },
  {
   "cell_type": "code",
   "execution_count": null,
   "metadata": {},
   "outputs": [],
   "source": [
    "count_vect = TfidfVectorizer(input='filename')\n",
    "X_freq = count_vect.fit_transform(papers)\n",
    "X_freq.shape"
   ]
  },
  {
   "cell_type": "code",
   "execution_count": null,
   "metadata": {},
   "outputs": [],
   "source": [
    "count_vect.vocabulary_"
   ]
  },
  {
   "cell_type": "code",
   "execution_count": null,
   "metadata": {},
   "outputs": [],
   "source": [
    "X_freq[0,1]"
   ]
  },
  {
   "cell_type": "markdown",
   "metadata": {},
   "source": [
    "## LDA"
   ]
  },
  {
   "cell_type": "code",
   "execution_count": null,
   "metadata": {},
   "outputs": [],
   "source": [
    "#X_lda = LatentDirichletAllocation(n_components = 10).fit_transform(X_freq)"
   ]
  },
  {
   "cell_type": "markdown",
   "metadata": {},
   "source": [
    "## Paper similarity"
   ]
  },
  {
   "cell_type": "code",
   "execution_count": null,
   "metadata": {},
   "outputs": [],
   "source": [
    "X_embedded = TSNE(n_components=2).fit_transform(X_freq.toarray())"
   ]
  },
  {
   "cell_type": "code",
   "execution_count": null,
   "metadata": {},
   "outputs": [],
   "source": [
    "fig, ax = plt.subplots()\n",
    "ax.scatter(X_embedded[:,0], X_embedded[:,1])\n",
    "fig.set_figwidth(16)\n",
    "fig.set_figheight(16)"
   ]
  },
  {
   "cell_type": "markdown",
   "metadata": {},
   "source": [
    "## Clustering"
   ]
  },
  {
   "cell_type": "code",
   "execution_count": null,
   "metadata": {},
   "outputs": [],
   "source": [
    " kmeans = KMeans(n_clusters=30, random_state=0).fit(X_embedded)"
   ]
  },
  {
   "cell_type": "code",
   "execution_count": null,
   "metadata": {},
   "outputs": [],
   "source": [
    "fig, ax = plt.subplots()\n",
    "ax.scatter(X_embedded[:,0], X_embedded[:,1], c = kmeans.labels_, cmap=\"gist_rainbow\")\n",
    "i = 0\n",
    "for c in kmeans.cluster_centers_:\n",
    "    plt.annotate(\n",
    "        str(i),\n",
    "        xy=(c[0], c[1]), xytext=(0,0),\n",
    "        textcoords='offset points', ha='center', va='center',\n",
    "        bbox=dict(boxstyle='round,pad=0.5', fc='white', alpha=0.5))\n",
    "    i = i + 1\n",
    "fig.set_figwidth(16)\n",
    "fig.set_figheight(16)"
   ]
  },
  {
   "cell_type": "code",
   "execution_count": null,
   "metadata": {},
   "outputs": [],
   "source": [
    "# Overall clustering score\n",
    "silhouette_score(X_embedded, kmeans.labels_)"
   ]
  },
  {
   "cell_type": "code",
   "execution_count": null,
   "metadata": {},
   "outputs": [],
   "source": [
    "# Silhouette score per sample\n",
    "# User to calculate the mean silouette score for each cluster\n",
    "scores = silhouette_samples(X_embedded, kmeans.labels_)\n",
    "df_scores = df.copy()\n",
    "df_scores['label'] = kmeans.labels_\n",
    "df_scores['shil'] = scores\n",
    "df_scores.groupby('label').mean().sort_values(by='shil', ascending=False)"
   ]
  },
  {
   "cell_type": "markdown",
   "metadata": {},
   "source": [
    "## DBSCAN"
   ]
  },
  {
   "cell_type": "code",
   "execution_count": null,
   "metadata": {},
   "outputs": [],
   "source": [
    "dbscan = DBSCAN(eps=1, min_samples=5).fit(X_embedded)"
   ]
  },
  {
   "cell_type": "code",
   "execution_count": null,
   "metadata": {},
   "outputs": [],
   "source": [
    "fig, ax = plt.subplots()\n",
    "ax.scatter(X_embedded[:,0], X_embedded[:,1], c = dbscan.labels_, cmap=\"gist_rainbow\")\n",
    "\n",
    "labels = np.unique(dbscan.labels_).tolist()\n",
    "\n",
    "for i in range(len(labels)):\n",
    "    center = [np.mean(X_embedded[dbscan.labels_ == labels[i], 0]), \n",
    "              np.mean(X_embedded[dbscan.labels_ == labels[i], 1])]\n",
    "    plt.annotate(\n",
    "        str(labels[i]),\n",
    "        xy=(center[0], center[1]), xytext=(0,0),\n",
    "        textcoords='offset points', ha='center', va='center',\n",
    "        bbox=dict(boxstyle='round,pad=0.5', fc='white', alpha=0.5))\n",
    "fig.set_figwidth(16)\n",
    "fig.set_figheight(16)"
   ]
  },
  {
   "cell_type": "code",
   "execution_count": null,
   "metadata": {},
   "outputs": [],
   "source": [
    "# Overall clustering score\n",
    "silhouette_score(X_embedded, dbscan.labels_)"
   ]
  },
  {
   "cell_type": "code",
   "execution_count": null,
   "metadata": {},
   "outputs": [],
   "source": [
    "# Silhouette score per sample\n",
    "# User to calculate the mean silouette score for each cluster\n",
    "scores = silhouette_samples(X_embedded, dbscan.labels_)\n",
    "df_scores = df.copy()\n",
    "df_scores['label'] = dbscan.labels_\n",
    "df_scores['shil'] = scores\n",
    "df_scores.groupby('label').mean().sort_values(by='shil', ascending=False)"
   ]
  },
  {
   "cell_type": "code",
   "execution_count": null,
   "metadata": {},
   "outputs": [],
   "source": []
  }
 ],
 "metadata": {
  "kernelspec": {
   "display_name": "Python 3",
   "language": "python",
   "name": "python3"
  },
  "language_info": {
   "codemirror_mode": {
    "name": "ipython",
    "version": 3
   },
   "file_extension": ".py",
   "mimetype": "text/x-python",
   "name": "python",
   "nbconvert_exporter": "python",
   "pygments_lexer": "ipython3",
   "version": "3.6.4"
  }
 },
 "nbformat": 4,
 "nbformat_minor": 2
}
