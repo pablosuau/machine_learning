{
 "cells": [
  {
   "cell_type": "code",
   "execution_count": null,
   "metadata": {},
   "outputs": [],
   "source": [
    "from bs4 import BeautifulSoup\n",
    "from tqdm import tqdm\n",
    "import requests\n",
    "import re\n",
    "import os"
   ]
  },
  {
   "cell_type": "markdown",
   "metadata": {},
   "source": [
    "The aim of this notebook is to scrape the CVPR 2018 papers shared at http://openaccess.thecvf.com/CVPR2018.py. These papers will be further processed by subsequent notebooks. "
   ]
  },
  {
   "cell_type": "code",
   "execution_count": null,
   "metadata": {},
   "outputs": [],
   "source": [
    "# Getting the page\n",
    "response = requests.get(\"http://openaccess.thecvf.com/CVPR2018.py\")\n",
    "page_html = response.text\n",
    "soup = BeautifulSoup(page_html, 'html.parser')"
   ]
  },
  {
   "cell_type": "code",
   "execution_count": null,
   "metadata": {},
   "outputs": [],
   "source": [
    "# Getting the name of the pdf files\n",
    "pattern = re.compile(r'pdf')\n",
    "urls = ['http://openaccess.thecvf.com/' + element.get('href') for element in soup.find_all('a', text=pattern)]\n",
    "print('Number of papers: ' + str(len(urls)))\n",
    "print('First 5 urls: ')\n",
    "for u in urls[0:5]:\n",
    "    print('   ' + u)"
   ]
  },
  {
   "cell_type": "code",
   "execution_count": null,
   "metadata": {},
   "outputs": [],
   "source": [
    "if not os.path.exists('papers/'):\n",
    "    os.makedirs('papers/')\n",
    "\n",
    "for i in tqdm(range(len(urls))):\n",
    "    url = urls[i]\n",
    "    file = 'papers/' + os.path.basename(url)\n",
    "    response = requests.get(url, stream=True)\n",
    "    with open(file, 'wb') as handle:\n",
    "        for data in response.iter_content():\n",
    "            handle.write(data)"
   ]
  },
  {
   "cell_type": "code",
   "execution_count": null,
   "metadata": {},
   "outputs": [],
   "source": []
  }
 ],
 "metadata": {
  "kernelspec": {
   "display_name": "Python 3",
   "language": "python",
   "name": "python3"
  },
  "language_info": {
   "codemirror_mode": {
    "name": "ipython",
    "version": 3
   },
   "file_extension": ".py",
   "mimetype": "text/x-python",
   "name": "python",
   "nbconvert_exporter": "python",
   "pygments_lexer": "ipython3",
   "version": "3.6.4"
  }
 },
 "nbformat": 4,
 "nbformat_minor": 2
}
