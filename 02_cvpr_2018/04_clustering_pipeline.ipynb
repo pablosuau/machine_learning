{
 "cells": [
  {
   "cell_type": "code",
   "execution_count": null,
   "metadata": {},
   "outputs": [],
   "source": [
    "%matplotlib inline\n",
    "\n",
    "import glob\n",
    "import numpy as np\n",
    "import pandas as pd\n",
    "import matplotlib.pyplot as plt\n",
    "import matplotlib.cm as cm\n",
    "from tqdm import tqdm\n",
    "from sklearn.feature_extraction.text import TfidfVectorizer\n",
    "from sklearn.decomposition import TruncatedSVD\n",
    "from sklearn.manifold import TSNE\n",
    "from sklearn.cluster import KMeans\n",
    "from sklearn.metrics import silhouette_samples, silhouette_score\n",
    "from sklearn.cluster import DBSCAN"
   ]
  },
  {
   "cell_type": "code",
   "execution_count": null,
   "metadata": {},
   "outputs": [],
   "source": [
    "def get_papers():\n",
    "    papers = sorted(glob.glob('data/*.txt'))\n",
    "    df = pd.DataFrame(columns=['paper', 'len'], index=range(len(papers)))\n",
    "\n",
    "    i = 0\n",
    "    for paper in papers:\n",
    "        with open(paper, 'r') as f:\n",
    "            text = f.readlines()\n",
    "        df.iloc[i, :] = [paper, len(text[0])]\n",
    "        i = i + 1\n",
    "    df = df[~(df['len'] < 5000) & ~(df['len'] > 80000)]\n",
    "    \n",
    "    return df"
   ]
  },
  {
   "cell_type": "code",
   "execution_count": null,
   "metadata": {},
   "outputs": [],
   "source": [
    "def build_bag_of_words(df, max_df = 0.7, min_df = 0.3):\n",
    "    count_vect = TfidfVectorizer(input='filename', max_df = max_df, min_df = min_df)\n",
    "    X_freq = count_vect.fit_transform(df.paper.values.tolist())\n",
    "    \n",
    "    return X_freq"
   ]
  },
  {
   "cell_type": "code",
   "execution_count": null,
   "metadata": {},
   "outputs": [],
   "source": [
    "def apply_lsa(X_freq, n_components = 15):\n",
    "    X_lsa = TruncatedSVD(n_components = n_components, random_state=0).fit_transform(X_freq)\n",
    "    \n",
    "    return X_lsa"
   ]
  },
  {
   "cell_type": "code",
   "execution_count": null,
   "metadata": {},
   "outputs": [],
   "source": [
    "def apply_dimensionality_reduction(X_lsa):\n",
    "    X_embedded = TSNE(n_components=2).fit_transform(X_lsa)\n",
    "    \n",
    "    return X_embedded"
   ]
  },
  {
   "cell_type": "code",
   "execution_count": null,
   "metadata": {},
   "outputs": [],
   "source": [
    "def kmeans_clustering(X_embedded, k = 20):\n",
    "    kmeans = KMeans(n_clusters=k, random_state=0).fit(X_embedded)\n",
    "    shil = silhouette_score(X_embedded, kmeans.labels_)\n",
    "    \n",
    "    return kmeans, shil"
   ]
  },
  {
   "cell_type": "code",
   "execution_count": null,
   "metadata": {},
   "outputs": [],
   "source": [
    "def dba_clustering(X_embedded, eps = 1.5, min_samples = 5):\n",
    "    dbscan = DBSCAN(eps = eps, min_samples = min_samples).fit(X_embedded)\n",
    "    if len(np.unique(dbscan.labels_).tolist()) > 1:\n",
    "        shil = silhouette_score(X_embedded, dbscan.labels_)\n",
    "    else:\n",
    "        shil = -1\n",
    "        \n",
    "    return dbscan, shil"
   ]
  },
  {
   "cell_type": "code",
   "execution_count": null,
   "metadata": {},
   "outputs": [],
   "source": [
    "def plot_kmeans(X_embedded, kmeans):\n",
    "    fig, ax = plt.subplots()\n",
    "    ax.scatter(X_embedded[:,0], X_embedded[:,1], c = kmeans.labels_, cmap=\"gist_rainbow\")\n",
    "    i = 0\n",
    "    for c in kmeans.cluster_centers_:\n",
    "        plt.annotate(\n",
    "            str(i),\n",
    "            xy=(c[0], c[1]), xytext=(0,0),\n",
    "            textcoords='offset points', ha='center', va='center',\n",
    "            bbox=dict(boxstyle='round,pad=0.5', fc='white', alpha=0.5))\n",
    "        i = i + 1\n",
    "    fig.set_figwidth(16)\n",
    "    fig.set_figheight(16)"
   ]
  },
  {
   "cell_type": "code",
   "execution_count": null,
   "metadata": {},
   "outputs": [],
   "source": [
    "def plot_dbscan(X_embedded, dbscan):\n",
    "    fig, ax = plt.subplots()\n",
    "    ax.scatter(X_embedded[:,0], X_embedded[:,1], c = dbscan.labels_, cmap=\"gist_rainbow\")\n",
    "\n",
    "    labels = np.unique(dbscan.labels_).tolist()\n",
    "\n",
    "    for i in range(len(labels)):\n",
    "        if labels[i] != -1:\n",
    "            center = [np.mean(X_embedded[dbscan.labels_ == labels[i], 0]), \n",
    "                      np.mean(X_embedded[dbscan.labels_ == labels[i], 1])]\n",
    "            plt.annotate(\n",
    "                str(labels[i]),\n",
    "                xy=(center[0], center[1]), xytext=(0,0),\n",
    "                textcoords='offset points', ha='center', va='center',\n",
    "                bbox=dict(boxstyle='round,pad=0.5', fc='white', alpha=0.5))\n",
    "    fig.set_figwidth(16)\n",
    "    fig.set_figheight(16)"
   ]
  },
  {
   "cell_type": "code",
   "execution_count": null,
   "metadata": {
    "scrolled": false
   },
   "outputs": [],
   "source": [
    "# Testing the pipeline\n",
    "df = get_papers()\n",
    "X_freq = build_bag_of_words(df, max_df = 0.7, min_df = 0.3)\n",
    "X_lsa = apply_lsa(X_freq, n_components = 15)\n",
    "X_embedded = apply_dimensionality_reduction(X_lsa)\n",
    "kmeans, shil_kmeans = kmeans_clustering(X_embedded, k = 20)\n",
    "dbscan, shil_dbscan = dba_clustering(X_embedded, eps = 1.5, min_samples=5)\n",
    "print('Shilouette score kmeans: ' + str(shil_kmeans))\n",
    "print('Shilouette score dbscan: ' + str(shil_dbscan))\n",
    "plot_kmeans(X_embedded, kmeans)\n",
    "plot_dbscan(X_embedded, dbscan)"
   ]
  },
  {
   "cell_type": "code",
   "execution_count": null,
   "metadata": {},
   "outputs": [],
   "source": [
    "# Model selection's grid search discretisation and ranges\n",
    "# Starting from a coarse grid\n",
    "max_df_values = np.arange(0.7, 1, 0.1)\n",
    "min_df_values = np.arange(0, 0.3, 0.1)\n",
    "n_components_values = range(5, 50)\n",
    "\n",
    "k_values = range(2, 50)\n",
    "\n",
    "eps_values = np.arange(0.01, 3, 0.05)\n",
    "min_samples_values = range(3,50)"
   ]
  },
  {
   "cell_type": "code",
   "execution_count": null,
   "metadata": {},
   "outputs": [],
   "source": [
    "# K-means model selection\n",
    "grid_search = [(max_df, min_df, n_components, k) \n",
    "                 for max_df in max_df_values\n",
    "                 for min_df in min_df_values\n",
    "                 for n_components in n_components_values\n",
    "                 for k in k_values]\n",
    "print(len(grid_search))"
   ]
  },
  {
   "cell_type": "code",
   "execution_count": null,
   "metadata": {},
   "outputs": [],
   "source": [
    "df = get_papers()\n",
    "\n",
    "best_shil = -1\n",
    "best_model = None\n",
    "\n",
    "for i in tqdm(range(len(grid_search))):\n",
    "    X_freq = build_bag_of_words(df, max_df = grid_search[i][0], min_df = grid_search[i][1])\n",
    "    X_lsa = apply_lsa(X_freq, n_components = grid_search[i][2])\n",
    "    X_embedded = apply_dimensionality_reduction(X_lsa)\n",
    "    kmeans, shil_kmeans = kmeans_clustering(X_embedded, k = grid_search[i][3])\n",
    "    \n",
    "    if shil_kmeans > best_shil:\n",
    "        best_shil = shil_kmeans\n",
    "        best_model = kmeans"
   ]
  },
  {
   "cell_type": "code",
   "execution_count": null,
   "metadata": {},
   "outputs": [],
   "source": []
  }
 ],
 "metadata": {
  "kernelspec": {
   "display_name": "Python 3",
   "language": "python",
   "name": "python3"
  },
  "language_info": {
   "codemirror_mode": {
    "name": "ipython",
    "version": 3
   },
   "file_extension": ".py",
   "mimetype": "text/x-python",
   "name": "python",
   "nbconvert_exporter": "python",
   "pygments_lexer": "ipython3",
   "version": "3.6.4"
  }
 },
 "nbformat": 4,
 "nbformat_minor": 2
}
