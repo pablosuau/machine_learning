{
 "cells": [
  {
   "cell_type": "code",
   "execution_count": 1,
   "metadata": {},
   "outputs": [],
   "source": [
    "import copy\n",
    "import multiprocessing\n",
    "from tqdm import tqdm\n",
    "import numpy as np\n",
    "import pandas as pd\n",
    "import matplotlib.pyplot as plt\n",
    "from itertools import combinations\n",
    "from scipy.stats import pearsonr, ttest_ind, f_oneway, chi2_contingency\n",
    "from scipy.stats import randint\n",
    "from sklearn.model_selection import train_test_split\n",
    "from sklearn.linear_model import LinearRegression\n",
    "from sklearn.metrics import mean_squared_error\n",
    "from sklearn.ensemble import RandomForestRegressor\n",
    "from sklearn.model_selection import RandomizedSearchCV\n",
    "from sklearn.utils import shuffle\n",
    "from sklearn.model_selection import cross_validate\n",
    "from sklearn.preprocessing import StandardScaler"
   ]
  },
  {
   "cell_type": "code",
   "execution_count": 2,
   "metadata": {},
   "outputs": [],
   "source": [
    "dataset = pd.read_csv(\"test_scores.csv\")"
   ]
  },
  {
   "cell_type": "code",
   "execution_count": 3,
   "metadata": {},
   "outputs": [],
   "source": [
    "np.random.seed(0)"
   ]
  },
  {
   "cell_type": "markdown",
   "metadata": {},
   "source": [
    "## Introduction\n",
    "\n",
    "In this notebook, we are building a regression model based on the Kaggle dataset [here](https://www.kaggle.com/kwadwoofosu/predict-test-scores-of-students). Given students' pretest score and other features related to their school and education, the goal is to predict the posttest score. \n",
    "\n",
    "We first conducted some data exploration to better understand the dataset and find a subset of useful predictors. Then we proceeded to prepare the data so we could start build models. Given the conclusions from our data exploration step, three models were trained: a very simple linear regression model with a single input variable (to be used as a baseline), a multiple linear regression model and a random forest. For this last case we applied hyperparameter tuning by means of a randomised search and evaluated its potential overfitting. "
   ]
  },
  {
   "cell_type": "markdown",
   "metadata": {},
   "source": [
    "## Initial exploration\n",
    "\n",
    "The first thing to notice is that the dataset contains few observations:"
   ]
  },
  {
   "cell_type": "code",
   "execution_count": 4,
   "metadata": {},
   "outputs": [
    {
     "data": {
      "text/plain": [
       "2133"
      ]
     },
     "execution_count": 4,
     "metadata": {},
     "output_type": "execute_result"
    }
   ],
   "source": [
    "len(dataset)"
   ]
  },
  {
   "cell_type": "markdown",
   "metadata": {},
   "source": [
    "I am taking a look at the head and the tail of the dataset to get a quick idea of how the data looks like:"
   ]
  },
  {
   "cell_type": "code",
   "execution_count": 5,
   "metadata": {},
   "outputs": [
    {
     "data": {
      "text/html": [
       "<div>\n",
       "<style scoped>\n",
       "    .dataframe tbody tr th:only-of-type {\n",
       "        vertical-align: middle;\n",
       "    }\n",
       "\n",
       "    .dataframe tbody tr th {\n",
       "        vertical-align: top;\n",
       "    }\n",
       "\n",
       "    .dataframe thead th {\n",
       "        text-align: right;\n",
       "    }\n",
       "</style>\n",
       "<table border=\"1\" class=\"dataframe\">\n",
       "  <thead>\n",
       "    <tr style=\"text-align: right;\">\n",
       "      <th></th>\n",
       "      <th>school</th>\n",
       "      <th>school_setting</th>\n",
       "      <th>school_type</th>\n",
       "      <th>classroom</th>\n",
       "      <th>teaching_method</th>\n",
       "      <th>n_student</th>\n",
       "      <th>student_id</th>\n",
       "      <th>gender</th>\n",
       "      <th>lunch</th>\n",
       "      <th>pretest</th>\n",
       "      <th>posttest</th>\n",
       "    </tr>\n",
       "  </thead>\n",
       "  <tbody>\n",
       "    <tr>\n",
       "      <th>0</th>\n",
       "      <td>ANKYI</td>\n",
       "      <td>Urban</td>\n",
       "      <td>Non-public</td>\n",
       "      <td>6OL</td>\n",
       "      <td>Standard</td>\n",
       "      <td>20.0</td>\n",
       "      <td>2FHT3</td>\n",
       "      <td>Female</td>\n",
       "      <td>Does not qualify</td>\n",
       "      <td>62.0</td>\n",
       "      <td>72.0</td>\n",
       "    </tr>\n",
       "    <tr>\n",
       "      <th>1</th>\n",
       "      <td>ANKYI</td>\n",
       "      <td>Urban</td>\n",
       "      <td>Non-public</td>\n",
       "      <td>6OL</td>\n",
       "      <td>Standard</td>\n",
       "      <td>20.0</td>\n",
       "      <td>3JIVH</td>\n",
       "      <td>Female</td>\n",
       "      <td>Does not qualify</td>\n",
       "      <td>66.0</td>\n",
       "      <td>79.0</td>\n",
       "    </tr>\n",
       "    <tr>\n",
       "      <th>2</th>\n",
       "      <td>ANKYI</td>\n",
       "      <td>Urban</td>\n",
       "      <td>Non-public</td>\n",
       "      <td>6OL</td>\n",
       "      <td>Standard</td>\n",
       "      <td>20.0</td>\n",
       "      <td>3XOWE</td>\n",
       "      <td>Male</td>\n",
       "      <td>Does not qualify</td>\n",
       "      <td>64.0</td>\n",
       "      <td>76.0</td>\n",
       "    </tr>\n",
       "    <tr>\n",
       "      <th>3</th>\n",
       "      <td>ANKYI</td>\n",
       "      <td>Urban</td>\n",
       "      <td>Non-public</td>\n",
       "      <td>6OL</td>\n",
       "      <td>Standard</td>\n",
       "      <td>20.0</td>\n",
       "      <td>556O0</td>\n",
       "      <td>Female</td>\n",
       "      <td>Does not qualify</td>\n",
       "      <td>61.0</td>\n",
       "      <td>77.0</td>\n",
       "    </tr>\n",
       "    <tr>\n",
       "      <th>4</th>\n",
       "      <td>ANKYI</td>\n",
       "      <td>Urban</td>\n",
       "      <td>Non-public</td>\n",
       "      <td>6OL</td>\n",
       "      <td>Standard</td>\n",
       "      <td>20.0</td>\n",
       "      <td>74LOE</td>\n",
       "      <td>Male</td>\n",
       "      <td>Does not qualify</td>\n",
       "      <td>64.0</td>\n",
       "      <td>76.0</td>\n",
       "    </tr>\n",
       "  </tbody>\n",
       "</table>\n",
       "</div>"
      ],
      "text/plain": [
       "  school school_setting school_type classroom teaching_method  n_student  \\\n",
       "0  ANKYI          Urban  Non-public       6OL        Standard       20.0   \n",
       "1  ANKYI          Urban  Non-public       6OL        Standard       20.0   \n",
       "2  ANKYI          Urban  Non-public       6OL        Standard       20.0   \n",
       "3  ANKYI          Urban  Non-public       6OL        Standard       20.0   \n",
       "4  ANKYI          Urban  Non-public       6OL        Standard       20.0   \n",
       "\n",
       "  student_id  gender             lunch  pretest  posttest  \n",
       "0      2FHT3  Female  Does not qualify     62.0      72.0  \n",
       "1      3JIVH  Female  Does not qualify     66.0      79.0  \n",
       "2      3XOWE    Male  Does not qualify     64.0      76.0  \n",
       "3      556O0  Female  Does not qualify     61.0      77.0  \n",
       "4      74LOE    Male  Does not qualify     64.0      76.0  "
      ]
     },
     "execution_count": 5,
     "metadata": {},
     "output_type": "execute_result"
    }
   ],
   "source": [
    "dataset.head()"
   ]
  },
  {
   "cell_type": "code",
   "execution_count": 6,
   "metadata": {},
   "outputs": [
    {
     "data": {
      "text/html": [
       "<div>\n",
       "<style scoped>\n",
       "    .dataframe tbody tr th:only-of-type {\n",
       "        vertical-align: middle;\n",
       "    }\n",
       "\n",
       "    .dataframe tbody tr th {\n",
       "        vertical-align: top;\n",
       "    }\n",
       "\n",
       "    .dataframe thead th {\n",
       "        text-align: right;\n",
       "    }\n",
       "</style>\n",
       "<table border=\"1\" class=\"dataframe\">\n",
       "  <thead>\n",
       "    <tr style=\"text-align: right;\">\n",
       "      <th></th>\n",
       "      <th>school</th>\n",
       "      <th>school_setting</th>\n",
       "      <th>school_type</th>\n",
       "      <th>classroom</th>\n",
       "      <th>teaching_method</th>\n",
       "      <th>n_student</th>\n",
       "      <th>student_id</th>\n",
       "      <th>gender</th>\n",
       "      <th>lunch</th>\n",
       "      <th>pretest</th>\n",
       "      <th>posttest</th>\n",
       "    </tr>\n",
       "  </thead>\n",
       "  <tbody>\n",
       "    <tr>\n",
       "      <th>2128</th>\n",
       "      <td>ZOWMK</td>\n",
       "      <td>Urban</td>\n",
       "      <td>Public</td>\n",
       "      <td>ZBH</td>\n",
       "      <td>Standard</td>\n",
       "      <td>30.0</td>\n",
       "      <td>T8LSK</td>\n",
       "      <td>Female</td>\n",
       "      <td>Does not qualify</td>\n",
       "      <td>39.0</td>\n",
       "      <td>55.0</td>\n",
       "    </tr>\n",
       "    <tr>\n",
       "      <th>2129</th>\n",
       "      <td>ZOWMK</td>\n",
       "      <td>Urban</td>\n",
       "      <td>Public</td>\n",
       "      <td>ZBH</td>\n",
       "      <td>Standard</td>\n",
       "      <td>30.0</td>\n",
       "      <td>VNP26</td>\n",
       "      <td>Female</td>\n",
       "      <td>Qualifies for reduced/free lunch</td>\n",
       "      <td>38.0</td>\n",
       "      <td>46.0</td>\n",
       "    </tr>\n",
       "    <tr>\n",
       "      <th>2130</th>\n",
       "      <td>ZOWMK</td>\n",
       "      <td>Urban</td>\n",
       "      <td>Public</td>\n",
       "      <td>ZBH</td>\n",
       "      <td>Standard</td>\n",
       "      <td>30.0</td>\n",
       "      <td>YDR1Z</td>\n",
       "      <td>Female</td>\n",
       "      <td>Qualifies for reduced/free lunch</td>\n",
       "      <td>45.0</td>\n",
       "      <td>51.0</td>\n",
       "    </tr>\n",
       "    <tr>\n",
       "      <th>2131</th>\n",
       "      <td>ZOWMK</td>\n",
       "      <td>Urban</td>\n",
       "      <td>Public</td>\n",
       "      <td>ZBH</td>\n",
       "      <td>Standard</td>\n",
       "      <td>30.0</td>\n",
       "      <td>YUEIH</td>\n",
       "      <td>Male</td>\n",
       "      <td>Qualifies for reduced/free lunch</td>\n",
       "      <td>46.0</td>\n",
       "      <td>53.0</td>\n",
       "    </tr>\n",
       "    <tr>\n",
       "      <th>2132</th>\n",
       "      <td>ZOWMK</td>\n",
       "      <td>Urban</td>\n",
       "      <td>Public</td>\n",
       "      <td>ZBH</td>\n",
       "      <td>Standard</td>\n",
       "      <td>30.0</td>\n",
       "      <td>ZVCQ8</td>\n",
       "      <td>Male</td>\n",
       "      <td>Qualifies for reduced/free lunch</td>\n",
       "      <td>41.0</td>\n",
       "      <td>48.0</td>\n",
       "    </tr>\n",
       "  </tbody>\n",
       "</table>\n",
       "</div>"
      ],
      "text/plain": [
       "     school school_setting school_type classroom teaching_method  n_student  \\\n",
       "2128  ZOWMK          Urban      Public       ZBH        Standard       30.0   \n",
       "2129  ZOWMK          Urban      Public       ZBH        Standard       30.0   \n",
       "2130  ZOWMK          Urban      Public       ZBH        Standard       30.0   \n",
       "2131  ZOWMK          Urban      Public       ZBH        Standard       30.0   \n",
       "2132  ZOWMK          Urban      Public       ZBH        Standard       30.0   \n",
       "\n",
       "     student_id  gender                             lunch  pretest  posttest  \n",
       "2128      T8LSK  Female                  Does not qualify     39.0      55.0  \n",
       "2129      VNP26  Female  Qualifies for reduced/free lunch     38.0      46.0  \n",
       "2130      YDR1Z  Female  Qualifies for reduced/free lunch     45.0      51.0  \n",
       "2131      YUEIH    Male  Qualifies for reduced/free lunch     46.0      53.0  \n",
       "2132      ZVCQ8    Male  Qualifies for reduced/free lunch     41.0      48.0  "
      ]
     },
     "execution_count": 6,
     "metadata": {},
     "output_type": "execute_result"
    }
   ],
   "source": [
    "dataset.tail()"
   ]
  },
  {
   "cell_type": "markdown",
   "metadata": {},
   "source": [
    "We didn't detect any missing values (or empty strings), so no missing data imputation is required:"
   ]
  },
  {
   "cell_type": "code",
   "execution_count": 7,
   "metadata": {},
   "outputs": [
    {
     "data": {
      "text/plain": [
       "school             0\n",
       "school_setting     0\n",
       "school_type        0\n",
       "classroom          0\n",
       "teaching_method    0\n",
       "n_student          0\n",
       "student_id         0\n",
       "gender             0\n",
       "lunch              0\n",
       "pretest            0\n",
       "posttest           0\n",
       "dtype: int64"
      ]
     },
     "execution_count": 7,
     "metadata": {},
     "output_type": "execute_result"
    }
   ],
   "source": [
    "dataset.isna().sum() + (dataset == \"\").sum()"
   ]
  },
  {
   "cell_type": "markdown",
   "metadata": {},
   "source": [
    "Next, we take a look at the type of the features in the dataset. The output variable is numerical, as well as a couple of input variables. The rest of input variables are categorical (we assume the object columns to be strings):"
   ]
  },
  {
   "cell_type": "code",
   "execution_count": 8,
   "metadata": {},
   "outputs": [
    {
     "data": {
      "text/plain": [
       "school              object\n",
       "school_setting      object\n",
       "school_type         object\n",
       "classroom           object\n",
       "teaching_method     object\n",
       "n_student          float64\n",
       "student_id          object\n",
       "gender              object\n",
       "lunch               object\n",
       "pretest            float64\n",
       "posttest           float64\n",
       "dtype: object"
      ]
     },
     "execution_count": 8,
     "metadata": {},
     "output_type": "execute_result"
    }
   ],
   "source": [
    "dataset.dtypes"
   ]
  },
  {
   "cell_type": "markdown",
   "metadata": {},
   "source": [
    "Therefore, we apply type casting to make it explicit that this `object` features are categorical:"
   ]
  },
  {
   "cell_type": "code",
   "execution_count": 9,
   "metadata": {},
   "outputs": [],
   "source": [
    "cat = dataset.dtypes[dataset.dtypes == object].index.values.tolist()\n",
    "dataset[cat] = dataset[cat].astype(dtype=\"category\")"
   ]
  },
  {
   "cell_type": "markdown",
   "metadata": {},
   "source": [
    "This function will help us to programmatically extract a list with the name of the categorical and numerical columns, based on their types."
   ]
  },
  {
   "cell_type": "code",
   "execution_count": 10,
   "metadata": {},
   "outputs": [],
   "source": [
    "def column_types(df):\n",
    "    cat = df.dtypes[df.dtypes == \"category\"].index.values.tolist()\n",
    "    num = df.drop(cat, axis=1).columns.tolist()\n",
    "    \n",
    "    return (cat, num)"
   ]
  },
  {
   "cell_type": "code",
   "execution_count": 11,
   "metadata": {},
   "outputs": [],
   "source": [
    "cat, num = column_types(dataset)"
   ]
  },
  {
   "cell_type": "code",
   "execution_count": 12,
   "metadata": {},
   "outputs": [
    {
     "data": {
      "text/plain": [
       "['school',\n",
       " 'school_setting',\n",
       " 'school_type',\n",
       " 'classroom',\n",
       " 'teaching_method',\n",
       " 'student_id',\n",
       " 'gender',\n",
       " 'lunch']"
      ]
     },
     "execution_count": 12,
     "metadata": {},
     "output_type": "execute_result"
    }
   ],
   "source": [
    "cat"
   ]
  },
  {
   "cell_type": "code",
   "execution_count": 13,
   "metadata": {},
   "outputs": [
    {
     "data": {
      "text/plain": [
       "['n_student', 'pretest', 'posttest']"
      ]
     },
     "execution_count": 13,
     "metadata": {},
     "output_type": "execute_result"
    }
   ],
   "source": [
    "num"
   ]
  },
  {
   "cell_type": "markdown",
   "metadata": {},
   "source": [
    "Let's take a look at the cardinality of the categorical features:"
   ]
  },
  {
   "cell_type": "code",
   "execution_count": 14,
   "metadata": {},
   "outputs": [
    {
     "data": {
      "text/plain": [
       "school               23\n",
       "school_setting        3\n",
       "school_type           2\n",
       "classroom            97\n",
       "teaching_method       2\n",
       "student_id         2133\n",
       "gender                2\n",
       "lunch                 2\n",
       "dtype: int64"
      ]
     },
     "execution_count": 14,
     "metadata": {},
     "output_type": "execute_result"
    }
   ],
   "source": [
    "dataset[cat].nunique()"
   ]
  },
  {
   "cell_type": "markdown",
   "metadata": {},
   "source": [
    "The `student_id` column seems to be a unique identifier for each student, since it has as many values as observations in the dataset. Therefore, for the purpose of building regression models, we can get rid of:"
   ]
  },
  {
   "cell_type": "code",
   "execution_count": 15,
   "metadata": {},
   "outputs": [],
   "source": [
    "dataset.drop([\"student_id\"], axis=1, inplace=True)"
   ]
  },
  {
   "cell_type": "code",
   "execution_count": 16,
   "metadata": {},
   "outputs": [],
   "source": [
    "cat, num = column_types(dataset)"
   ]
  },
  {
   "cell_type": "markdown",
   "metadata": {},
   "source": [
    "Once we remove the unique identifier, it is interesting to notice that there are actually only 298 different combinations of values for the categorical variables. This may be good news since it may be useful to give us an indication of the amount of noise in the predicted variable during the modelling stage:"
   ]
  },
  {
   "cell_type": "code",
   "execution_count": 17,
   "metadata": {},
   "outputs": [
    {
     "data": {
      "text/plain": [
       "298"
      ]
     },
     "execution_count": 17,
     "metadata": {},
     "output_type": "execute_result"
    }
   ],
   "source": [
    "len(dataset[cat].drop_duplicates())"
   ]
  },
  {
   "cell_type": "markdown",
   "metadata": {},
   "source": [
    "## Data visualisation and feature selection\n",
    "\n",
    "All the numerical features look closely normal, with no clear outliers."
   ]
  },
  {
   "cell_type": "code",
   "execution_count": 18,
   "metadata": {},
   "outputs": [
    {
     "data": {
      "image/png": "[encoded data removed]",
      "text/plain": [
       "<Figure size 1152x144 with 3 Axes>"
      ]
     },
     "metadata": {
      "needs_background": "light"
     },
     "output_type": "display_data"
    }
   ],
   "source": [
    "_ = dataset[num].hist(sharey=True, layout=(1,3), figsize=(16, 2), bins=30)"
   ]
  },
  {
   "cell_type": "markdown",
   "metadata": {},
   "source": [
    "We take now a look at the correlation between each of the numerical input variables and `posttest`. As we can see below, the `pretest` score seems to be a very clear indication of what the `posttest` score is going to be. There is some homoscedastic variance. I wonder to which extent will the categorical features help explaining this variability.\n",
    "\n",
    "The `n_student` feature doesn't seem to present a strong correlation with respect to `posttest`."
   ]
  },
  {
   "cell_type": "code",
   "execution_count": 19,
   "metadata": {},
   "outputs": [
    {
     "data": {
      "image/png": "[encoded data removed]",
      "text/plain": [
       "<Figure size 864x288 with 2 Axes>"
      ]
     },
     "metadata": {
      "needs_background": "light"
     },
     "output_type": "display_data"
    }
   ],
   "source": [
    "fig, ax = plt.subplots(1, 2, figsize=(12, 4))\n",
    "for i in range(2):\n",
    "    cor = pearsonr(dataset[num[i]], dataset[\"posttest\"])[0]\n",
    "    dataset.plot.scatter(num[i], \"posttest\", alpha=0.2, ax=ax[i], title=\"Pearson's correlation: {:.3f}\".format(cor))"
   ]
  },
  {
   "cell_type": "markdown",
   "metadata": {},
   "source": [
    "Using side by side boxplots for each categorical feature we can get some idea of the correlation between categorical features and the numerical output variable. For each categorical variable, each box represents the distribution of `posttest` values for each of the categorical variable value:"
   ]
  },
  {
   "cell_type": "code",
   "execution_count": 20,
   "metadata": {
    "scrolled": false
   },
   "outputs": [
    {
     "data": {
      "image/png": "[encoded data removed]",
      "text/plain": [
       "<Figure size 1152x288 with 1 Axes>"
      ]
     },
     "metadata": {
      "needs_background": "light"
     },
     "output_type": "display_data"
    },
    {
     "data": {
      "image/png": "[encoded data removed]",
      "text/plain": [
       "<Figure size 1152x288 with 1 Axes>"
      ]
     },
     "metadata": {
      "needs_background": "light"
     },
     "output_type": "display_data"
    },
    {
     "data": {
      "image/png": "[encoded data removed]",
      "text/plain": [
       "<Figure size 1152x288 with 1 Axes>"
      ]
     },
     "metadata": {
      "needs_background": "light"
     },
     "output_type": "display_data"
    },
    {
     "data": {
      "image/png": "[encoded data removed]",
      "text/plain": [
       "<Figure size 1152x288 with 1 Axes>"
      ]
     },
     "metadata": {
      "needs_background": "light"
     },
     "output_type": "display_data"
    },
    {
     "data": {
      "image/png": "[encoded data removed]",
      "text/plain": [
       "<Figure size 1152x288 with 1 Axes>"
      ]
     },
     "metadata": {
      "needs_background": "light"
     },
     "output_type": "display_data"
    },
    {
     "data": {
      "image/png": "[encoded data removed]",
      "text/plain": [
       "<Figure size 1152x288 with 1 Axes>"
      ]
     },
     "metadata": {
      "needs_background": "light"
     },
     "output_type": "display_data"
    },
    {
     "data": {
      "image/png": "[encoded data removed]",
      "text/plain": [
       "<Figure size 1152x288 with 1 Axes>"
      ]
     },
     "metadata": {
      "needs_background": "light"
     },
     "output_type": "display_data"
    }
   ],
   "source": [
    "for c in cat:\n",
    "    ax = dataset.boxplot(\"posttest\", by=c, figsize=(16, 4))\n",
    "    ax.set_ylabel(\"posttest\")\n",
    "    if c == \"classroom\":\n",
    "        plt.xticks(rotation=90)\n",
    "    _ = ax.set_title(\"\")"
   ]
  },
  {
   "cell_type": "markdown",
   "metadata": {},
   "source": [
    "By visual inspection it may seem that the `gender` feature does not have much impact in terms of predicting the `posttest` score. Let's do a more formal test. We apply two-sample t test hypothesis testing for each categorical variable having only two unique values, and an ANOVA test for the rest. The objective is to determine whether there is a difference in `posttest` scores for at least two of the categorical feature values:"
   ]
  },
  {
   "cell_type": "code",
   "execution_count": 21,
   "metadata": {},
   "outputs": [
    {
     "name": "stdout",
     "output_type": "stream",
     "text": [
      "Test results for school_type: Ttest_indResult(statistic=18.61101342570606, pvalue=9.375658077322588e-72)\n",
      "Test results for teaching_method: Ttest_indResult(statistic=-15.207130452439435, pvalue=1.1640893397303954e-49)\n",
      "Test results for gender: Ttest_indResult(statistic=-0.3186213007906837, pvalue=0.7500449231810916)\n",
      "Test results for lunch: Ttest_indResult(statistic=34.475520932132916, pvalue=2.2616015547526212e-207)\n"
     ]
    }
   ],
   "source": [
    "def get_group_posttest(column, value):\n",
    "    '''\n",
    "    Extract the posttest data for all the observations in the dataset having a given value\n",
    "    assigned in the indicated column\n",
    "    '''\n",
    "    return dataset[dataset[column] == value][\"posttest\"].values.tolist()\n",
    "\n",
    "for c in cat:\n",
    "    if dataset[c].nunique() == 2:\n",
    "        val = dataset[c].unique()\n",
    "        test = ttest_ind(get_group_posttest(c, val[0]), get_group_posttest(c, val[1]))\n",
    "        print(\"Test results for {}: {}\".format(c, test))"
   ]
  },
  {
   "cell_type": "code",
   "execution_count": 22,
   "metadata": {},
   "outputs": [
    {
     "name": "stdout",
     "output_type": "stream",
     "text": [
      "Test results for school: F_onewayResult(statistic=367.3402670965681, pvalue=0.0)\n",
      "Test results for school_setting: F_onewayResult(statistic=284.64490998276796, pvalue=2.7767850260221484e-110)\n",
      "Test results for classroom: F_onewayResult(statistic=397.2819173475613, pvalue=0.0)\n"
     ]
    }
   ],
   "source": [
    "for c in cat:\n",
    "    if dataset[c].nunique() > 2:\n",
    "        val = dataset[c].unique()\n",
    "        samples = [dataset[dataset[c] == v][\"posttest\"] for v in val]\n",
    "        test = f_oneway(*samples)\n",
    "        print(\"Test results for {}: {}\".format(c, test))"
   ]
  },
  {
   "cell_type": "markdown",
   "metadata": {},
   "source": [
    "Looking at the test results, we see a p-value of 0.75 for the `gender` feature. This is the only feature for which we cannot reject the null hypothesis, and therefore we conclude that **we can safely get rid of the gender feature from the dataset**."
   ]
  },
  {
   "cell_type": "markdown",
   "metadata": {},
   "source": [
    "Another aspect of the data we noticed during visual inspection is that there seems to be a 1-1 relationship between `n_student` and `classroom`, i.e. all observations having the same `classroom` value will also have the same `n_student` value: "
   ]
  },
  {
   "cell_type": "code",
   "execution_count": 23,
   "metadata": {},
   "outputs": [
    {
     "data": {
      "text/plain": [
       "n_student    0\n",
       "dtype: int64"
      ]
     },
     "execution_count": 23,
     "metadata": {},
     "output_type": "execute_result"
    }
   ],
   "source": [
    "(dataset[[\"classroom\", \"n_student\"]].groupby(\"classroom\").nunique() > 1).sum()"
   ]
  },
  {
   "cell_type": "markdown",
   "metadata": {},
   "source": [
    "It seems that `n_student` is just the number of observations in the dataset having the same `classroom` value. "
   ]
  },
  {
   "cell_type": "code",
   "execution_count": 24,
   "metadata": {},
   "outputs": [
    {
     "data": {
      "text/plain": [
       "True"
      ]
     },
     "execution_count": 24,
     "metadata": {},
     "output_type": "execute_result"
    }
   ],
   "source": [
    "df1 = dataset[[\"classroom\", \"posttest\"]].groupby(\"classroom\").size() \n",
    "df2 = dataset[[\"classroom\", \"n_student\"]].groupby(\"classroom\").mean()\n",
    "df = pd.concat([df1, df2], axis=1)\n",
    "df.columns = [\"size\", \"n_student\"]\n",
    "(df[\"size\"] == df[\"n_student\"]).all()"
   ]
  },
  {
   "cell_type": "markdown",
   "metadata": {},
   "source": [
    "Therefore, **I'd suggest to we get rid of `n_student`**. The `classroom` feature has a higer cardinality that may provide more fine detail about the variability of the `posttest`."
   ]
  },
  {
   "cell_type": "markdown",
   "metadata": {},
   "source": [
    "Now we use chi-square hypothesis tests to evaluate the dependency between each pair of categorical features:"
   ]
  },
  {
   "cell_type": "code",
   "execution_count": 25,
   "metadata": {
    "scrolled": false
   },
   "outputs": [
    {
     "name": "stdout",
     "output_type": "stream",
     "text": [
      "('school', 'school_setting')\n",
      "0.0\n",
      "('school', 'school_type')\n",
      "0.0\n",
      "('school', 'classroom')\n",
      "0.0\n",
      "('school', 'teaching_method')\n",
      "7.228621507075362e-78\n",
      "('school', 'gender')\n",
      "0.0321155639821607\n",
      "('school', 'lunch')\n",
      "5.278576793788724e-281\n",
      "('school_setting', 'school_type')\n",
      "0.00020523800701307613\n",
      "('school_setting', 'classroom')\n",
      "0.0\n",
      "('school_setting', 'teaching_method')\n",
      "7.01305084172253e-05\n",
      "('school_setting', 'gender')\n",
      "0.06783227640136613\n",
      "('school_setting', 'lunch')\n",
      "5.016920354425382e-08\n",
      "('school_type', 'classroom')\n",
      "0.0\n",
      "('school_type', 'teaching_method')\n",
      "1.895447485787072e-12\n",
      "('school_type', 'gender')\n",
      "0.4454307653065481\n",
      "('school_type', 'lunch')\n",
      "3.945621936758178e-15\n",
      "('classroom', 'teaching_method')\n",
      "0.0\n",
      "('classroom', 'gender')\n",
      "0.11909947380042832\n",
      "('classroom', 'lunch')\n",
      "4.615977777621936e-232\n",
      "('teaching_method', 'gender')\n",
      "0.3775222025423609\n",
      "('teaching_method', 'lunch')\n",
      "0.43289028304865307\n",
      "('gender', 'lunch')\n",
      "0.4830627330388866\n"
     ]
    }
   ],
   "source": [
    "for comb in combinations(cat, 2):\n",
    "    print(comb)\n",
    "    print(chi2_contingency(pd.crosstab(dataset[comb[0]], dataset[comb[1]]))[1])"
   ]
  },
  {
   "cell_type": "markdown",
   "metadata": {},
   "source": [
    "Most of the pairs of categorical variables seem to be quite dependent, with a 1-1 relationship existing between some of them (e.g. `school` and `school_setting`). There are some exceptions, involving mainly `gender` and `lunch`. We should take this into account during modelling - we need regularisation. "
   ]
  },
  {
   "cell_type": "markdown",
   "metadata": {},
   "source": [
    "Finally, we discard the two suggested input variables:"
   ]
  },
  {
   "cell_type": "code",
   "execution_count": 26,
   "metadata": {},
   "outputs": [],
   "source": [
    "dataset.drop([\"gender\", \"n_student\"], axis=1, inplace=True)"
   ]
  },
  {
   "cell_type": "code",
   "execution_count": 27,
   "metadata": {},
   "outputs": [],
   "source": [
    "cat, num = column_types(dataset)"
   ]
  },
  {
   "cell_type": "code",
   "execution_count": 28,
   "metadata": {},
   "outputs": [
    {
     "data": {
      "text/plain": [
       "161"
      ]
     },
     "execution_count": 28,
     "metadata": {},
     "output_type": "execute_result"
    }
   ],
   "source": [
    "len(dataset[cat].drop_duplicates())"
   ]
  },
  {
   "cell_type": "markdown",
   "metadata": {},
   "source": [
    "Discarding theset two input variables decreased the number of combinations of unique values of categorical variables. "
   ]
  },
  {
   "cell_type": "markdown",
   "metadata": {},
   "source": [
    "## Data preprocessing and modelling\n",
    "\n",
    "The first step is to apply one-hot encoding so that we can use the categorical features in our models. Two of the models we train below actually don't require this step (linear regression with a single numerical input variable and random forests) but we apply it anyway to be able to compare to multiple linear regression. "
   ]
  },
  {
   "cell_type": "code",
   "execution_count": 29,
   "metadata": {},
   "outputs": [
    {
     "data": {
      "text/plain": [
       "(2133, 8)"
      ]
     },
     "execution_count": 29,
     "metadata": {},
     "output_type": "execute_result"
    }
   ],
   "source": [
    "dataset.shape"
   ]
  },
  {
   "cell_type": "code",
   "execution_count": 30,
   "metadata": {},
   "outputs": [],
   "source": [
    "# Using k-1 dummy variables (dropfirst) to prevent correlation issues\n",
    "X = pd.concat([pd.get_dummies(dataset[cat], drop_first=True), dataset[num]], axis=1)"
   ]
  },
  {
   "cell_type": "code",
   "execution_count": 31,
   "metadata": {},
   "outputs": [
    {
     "data": {
      "text/plain": [
       "(2133, 125)"
      ]
     },
     "execution_count": 31,
     "metadata": {},
     "output_type": "execute_result"
    }
   ],
   "source": [
    "X.shape"
   ]
  },
  {
   "cell_type": "markdown",
   "metadata": {},
   "source": [
    "As a consequence of this we increase the number of features from 8 to 125. This dataset still fits in memory.\n",
    "\n",
    "Next, we split the dataset into input and output variables:"
   ]
  },
  {
   "cell_type": "code",
   "execution_count": 32,
   "metadata": {},
   "outputs": [],
   "source": [
    "y = dataset[\"posttest\"]\n",
    "X = X.drop(\"posttest\", axis=1)"
   ]
  },
  {
   "cell_type": "markdown",
   "metadata": {},
   "source": [
    "Now we split the dataset into a training set and a test set. The training set will be used to train models and hyperparameter tuning. The test set will be used to compare different models and will never be used to take decisions about how to train a specific model. We use a 40% of the dataset as a test set. That is a relatively high value, but we have a high proportion of duplicate combinations of categorical values. "
   ]
  },
  {
   "cell_type": "code",
   "execution_count": 33,
   "metadata": {},
   "outputs": [],
   "source": [
    "X_train, X_test, y_train, y_test = train_test_split(X, y, test_size=0.4)"
   ]
  },
  {
   "cell_type": "markdown",
   "metadata": {},
   "source": [
    "As in the case of one-hot encoding, we are applying data standardisation only because one of the models we will be training below (multiple linear regression) requires it:"
   ]
  },
  {
   "cell_type": "code",
   "execution_count": 34,
   "metadata": {},
   "outputs": [],
   "source": [
    "scaler = StandardScaler()\n",
    "scaler.fit(X_train)\n",
    "X_train = pd.DataFrame(data=scaler.transform(X_train), columns=X_train.columns)\n",
    "X_test = pd.DataFrame(data=scaler.transform(X_test), columns=X_test.columns)"
   ]
  },
  {
   "cell_type": "markdown",
   "metadata": {},
   "source": [
    "## Model: linear regression (`pretest` vs. `posttest`)"
   ]
  },
  {
   "cell_type": "markdown",
   "metadata": {},
   "source": [
    "As we noticed earlier, there is a very strong correlation between the pretest score and the posttest score. We will train a linear regression model that we will use as a baseline to compare with the rest of the models in this notebook. This way, we will be able to understand whether the categorical input variables are actually helping to explain the variability of the `posttest` scores. \n",
    "\n",
    "We are using mean squared error to evaluate this and the rest of the models in this notebook. "
   ]
  },
  {
   "cell_type": "code",
   "execution_count": 35,
   "metadata": {},
   "outputs": [
    {
     "data": {
      "text/plain": [
       "18.608284285164892"
      ]
     },
     "execution_count": 35,
     "metadata": {},
     "output_type": "execute_result"
    }
   ],
   "source": [
    "# Train error\n",
    "pretest = X_train[\"pretest\"].values.reshape(-1, 1)\n",
    "lin_reg = LinearRegression().fit(pretest, y_train)\n",
    "y_pred = lin_reg.predict(pretest)\n",
    "mean_squared_error(y_pred, y_train)"
   ]
  },
  {
   "cell_type": "code",
   "execution_count": 36,
   "metadata": {},
   "outputs": [
    {
     "data": {
      "text/plain": [
       "18.963575264769727"
      ]
     },
     "execution_count": 36,
     "metadata": {},
     "output_type": "execute_result"
    }
   ],
   "source": [
    "# Test error\n",
    "pretest = X_test[\"pretest\"].values.reshape(-1, 1)\n",
    "y_pred = lin_reg.predict(pretest)\n",
    "mean_squared_error(y_pred, y_test)"
   ]
  },
  {
   "cell_type": "markdown",
   "metadata": {},
   "source": [
    "There's not much difference between train and test errors. That's an indication of lack of overfitting. However, the error is quite high when compared to that of the models below. That means that using only `pretest` is not enough to explain the `posttest` feature. "
   ]
  },
  {
   "cell_type": "markdown",
   "metadata": {},
   "source": [
    "## Model: multiple linear regression\n",
    "\n",
    "We build now a multiple linear regression model using all the selected input variables. We are making an assumption that there is a linear relationship between the input variables and the output variable. This is totally the case of the `pretest` variable. The categorical variables have no ordering, but our exploration demonstrated some dependency between each of the categorical input variables and the output variable. "
   ]
  },
  {
   "cell_type": "code",
   "execution_count": 37,
   "metadata": {},
   "outputs": [
    {
     "data": {
      "text/plain": [
       "7.993588155765152"
      ]
     },
     "execution_count": 37,
     "metadata": {},
     "output_type": "execute_result"
    }
   ],
   "source": [
    "# Train error\n",
    "lin_reg = LinearRegression().fit(X_train, y_train)\n",
    "y_pred = lin_reg.predict(X_train)\n",
    "mean_squared_error(y_pred, y_train)"
   ]
  },
  {
   "cell_type": "code",
   "execution_count": 38,
   "metadata": {},
   "outputs": [
    {
     "data": {
      "text/plain": [
       "9.399959117759378"
      ]
     },
     "execution_count": 38,
     "metadata": {},
     "output_type": "execute_result"
    }
   ],
   "source": [
    "# Test error\n",
    "y_pred = lin_reg.predict(X_test)\n",
    "mean_squared_error(y_pred, y_test)"
   ]
  },
  {
   "cell_type": "markdown",
   "metadata": {},
   "source": [
    "By using all the selected input features we obtain a much lower regression error. However, the difference between train error and test error is higher. Therefore, there's a bit more of overfitting. "
   ]
  },
  {
   "cell_type": "markdown",
   "metadata": {},
   "source": [
    "## Model: random forests\n",
    "\n",
    "A random forest model seems like a sensible choice given the fact that we have both numerical and categorical variables. We are hopping that using bootstrapping and a fixed tree depth will respectively help to decrease the bias and overfitting.\n",
    "\n",
    "Our first test was not that successful. Random forests in scikit-learn do not limit the depth of the tree, so we produce a model with much overfitting:"
   ]
  },
  {
   "cell_type": "code",
   "execution_count": 39,
   "metadata": {},
   "outputs": [
    {
     "data": {
      "text/plain": [
       "3.3877264916680216"
      ]
     },
     "execution_count": 39,
     "metadata": {},
     "output_type": "execute_result"
    }
   ],
   "source": [
    "# Train error\n",
    "rf = RandomForestRegressor().fit(X_train, y_train)\n",
    "y_pred = rf.predict(X_train)\n",
    "mean_squared_error(y_pred, y_train)"
   ]
  },
  {
   "cell_type": "code",
   "execution_count": 40,
   "metadata": {},
   "outputs": [
    {
     "data": {
      "text/plain": [
       "11.11499082630678"
      ]
     },
     "execution_count": 40,
     "metadata": {},
     "output_type": "execute_result"
    }
   ],
   "source": [
    "# Test error\n",
    "y_pred = rf.predict(X_test)\n",
    "mean_squared_error(y_pred, y_test)"
   ]
  },
  {
   "cell_type": "markdown",
   "metadata": {},
   "source": [
    "The test error is larger than that of a much simpler model (multiple linear regression).\n",
    "\n",
    "Let's try hyperparemter tuning by means of randomized search (so this process doesn't take that much time to run). For that we will apply 10-fold cross validation to the training dataset. I am testing the parameters that in my experience usually have a bigger impact. I chose only two parameters to prevent the curse of dimensionality. "
   ]
  },
  {
   "cell_type": "code",
   "execution_count": 41,
   "metadata": {},
   "outputs": [],
   "source": [
    "jobs = multiprocessing.cpu_count() - 1\n",
    "rf = RandomForestRegressor()\n",
    "distributions = dict(n_estimators=randint(10, 1000), max_depth=randint(5, 100))\n",
    "search = RandomizedSearchCV(rf, distributions, n_jobs=jobs, n_iter=jobs * 10, cv=10).fit(X_train, y_train)"
   ]
  },
  {
   "cell_type": "markdown",
   "metadata": {},
   "source": [
    "The best results are obtained for the following hyperparameter values:"
   ]
  },
  {
   "cell_type": "code",
   "execution_count": 42,
   "metadata": {},
   "outputs": [
    {
     "data": {
      "text/plain": [
       "{'max_depth': 7, 'n_estimators': 164}"
      ]
     },
     "execution_count": 42,
     "metadata": {},
     "output_type": "execute_result"
    }
   ],
   "source": [
    "search.best_params_"
   ]
  },
  {
   "cell_type": "code",
   "execution_count": 43,
   "metadata": {},
   "outputs": [
    {
     "data": {
      "text/plain": [
       "6.345661013413479"
      ]
     },
     "execution_count": 43,
     "metadata": {},
     "output_type": "execute_result"
    }
   ],
   "source": [
    "# Train error\n",
    "rf = RandomForestRegressor(**search.best_params_).fit(X_train, y_train)\n",
    "y_pred_t = rf.predict(X_train)\n",
    "mean_squared_error(y_pred_t, y_train)"
   ]
  },
  {
   "cell_type": "code",
   "execution_count": 44,
   "metadata": {},
   "outputs": [
    {
     "data": {
      "text/plain": [
       "10.346633382390435"
      ]
     },
     "execution_count": 44,
     "metadata": {},
     "output_type": "execute_result"
    }
   ],
   "source": [
    "# Test error\n",
    "y_pred = rf.predict(X_test)\n",
    "mean_squared_error(y_pred, y_test)"
   ]
  },
  {
   "cell_type": "markdown",
   "metadata": {},
   "source": [
    "Unfortunately, even though we managed to decrease overfitting, the test error is still higher than that of the multiple linear regression model.\n",
    "\n",
    "However, we can still use these results to try to measure the importance of each of the input variables. The plot below shows the importance score (notice the logarithmic scale) of the 10 most important features:"
   ]
  },
  {
   "cell_type": "code",
   "execution_count": 45,
   "metadata": {},
   "outputs": [
    {
     "data": {
      "text/plain": [
       "Text(0.5, 0, 'importance (log)')"
      ]
     },
     "execution_count": 45,
     "metadata": {},
     "output_type": "execute_result"
    },
    {
     "data": {
      "image/png": "[encoded data removed]",
      "text/plain": [
       "<Figure size 432x288 with 1 Axes>"
      ]
     },
     "metadata": {
      "needs_background": "light"
     },
     "output_type": "display_data"
    }
   ],
   "source": [
    "# Feature importance - showung only the 10 most important ones\n",
    "s = np.argsort(rf.feature_importances_)\n",
    "fig, ax = plt.subplots()\n",
    "ax.barh(X_train.columns[s][-10:], rf.feature_importances_[s][-10:])\n",
    "ax.set_xscale(\"log\")\n",
    "ax.set_xlabel(\"importance (log)\")"
   ]
  },
  {
   "cell_type": "markdown",
   "metadata": {},
   "source": [
    "It seems that most of the variability in the output variable is explained obviously by `pretest` but also by the teaching method and the type of school. These two last features are extrinsic to the student, and highlight the importance of applying correct teaching metrics and the impact of studing or not in a public school. \n",
    "\n",
    "This importance may be use by educators and councils to take decisions about how to improve grades in schools. \n",
    "\n",
    "Unfortunately, using only these three most important features does not produce better results:"
   ]
  },
  {
   "cell_type": "code",
   "execution_count": 46,
   "metadata": {},
   "outputs": [
    {
     "data": {
      "text/plain": [
       "8.228708298252077"
      ]
     },
     "execution_count": 46,
     "metadata": {},
     "output_type": "execute_result"
    }
   ],
   "source": [
    "# Train error\n",
    "X_train_s = X_train[X_train.columns[s][-3:]]\n",
    "rf = RandomForestRegressor(**search.best_params_).fit(X_train_s, y_train)\n",
    "y_pred = rf.predict(X_train_s)\n",
    "mean_squared_error(y_pred, y_train)"
   ]
  },
  {
   "cell_type": "code",
   "execution_count": 47,
   "metadata": {},
   "outputs": [
    {
     "data": {
      "text/plain": [
       "11.712184177844636"
      ]
     },
     "execution_count": 47,
     "metadata": {},
     "output_type": "execute_result"
    }
   ],
   "source": [
    "# Test error\n",
    "X_test_s = X_test[X_test.columns[s][-3:]]\n",
    "y_pred = rf.predict(X_test_s)\n",
    "mean_squared_error(y_pred, y_test)"
   ]
  },
  {
   "cell_type": "markdown",
   "metadata": {},
   "source": [
    "Coming back to the random forest we trained after hyperparameter tuning using all the selected input variables, let's take a look at the distribution of the residuals: "
   ]
  },
  {
   "cell_type": "code",
   "execution_count": 48,
   "metadata": {},
   "outputs": [
    {
     "data": {
      "image/png": "[encoded data removed]",
      "text/plain": [
       "<Figure size 432x288 with 1 Axes>"
      ]
     },
     "metadata": {
      "needs_background": "light"
     },
     "output_type": "display_data"
    }
   ],
   "source": [
    "res = np.power(y_pred_t - y_train, 2)\n",
    "_ = res.plot.hist(bins=100)"
   ]
  },
  {
   "cell_type": "markdown",
   "metadata": {},
   "source": [
    "We could start a systematic error analysis process in which we analyse the features of the outliers on the right hand side of the plot, that is, the least accurate predictions. This systematic error analysis could help us focus on those observations that are harder to predict correctly. "
   ]
  },
  {
   "cell_type": "code",
   "execution_count": 49,
   "metadata": {},
   "outputs": [],
   "source": [
    "indices = np.argwhere(res.values > 50).flatten().tolist()"
   ]
  },
  {
   "cell_type": "code",
   "execution_count": 50,
   "metadata": {},
   "outputs": [
    {
     "data": {
      "text/plain": [
       "[14, 147, 187, 556, 577, 914, 1093]"
      ]
     },
     "execution_count": 50,
     "metadata": {},
     "output_type": "execute_result"
    }
   ],
   "source": [
    "indices"
   ]
  },
  {
   "cell_type": "code",
   "execution_count": 51,
   "metadata": {},
   "outputs": [],
   "source": [
    "# Taken from https://stackoverflow.com/questions/50607740/reverse-a-get-dummies-encoding-in-pandas\n",
    "def undummify(df, prefix_sep=\"_\"):\n",
    "    cols2collapse = {\n",
    "        item.split(prefix_sep)[0]: (prefix_sep in item) for item in df.columns\n",
    "    }\n",
    "    series_list = []\n",
    "    for col, needs_to_collapse in cols2collapse.items():\n",
    "        if needs_to_collapse:\n",
    "            undummified = (\n",
    "                df.filter(like=col)\n",
    "                .idxmax(axis=1)\n",
    "                .apply(lambda x: x.split(prefix_sep, maxsplit=1)[1])\n",
    "                .rename(col)\n",
    "            )\n",
    "            series_list.append(undummified)\n",
    "        else:\n",
    "            series_list.append(df[col])\n",
    "    undummified_df = pd.concat(series_list, axis=1)\n",
    "    return undummified_df\n"
   ]
  },
  {
   "cell_type": "code",
   "execution_count": 52,
   "metadata": {},
   "outputs": [
    {
     "data": {
      "text/html": [
       "<div>\n",
       "<style scoped>\n",
       "    .dataframe tbody tr th:only-of-type {\n",
       "        vertical-align: middle;\n",
       "    }\n",
       "\n",
       "    .dataframe tbody tr th {\n",
       "        vertical-align: top;\n",
       "    }\n",
       "\n",
       "    .dataframe thead th {\n",
       "        text-align: right;\n",
       "    }\n",
       "</style>\n",
       "<table border=\"1\" class=\"dataframe\">\n",
       "  <thead>\n",
       "    <tr style=\"text-align: right;\">\n",
       "      <th></th>\n",
       "      <th>school</th>\n",
       "      <th>classroom</th>\n",
       "      <th>teaching</th>\n",
       "      <th>lunch</th>\n",
       "      <th>pretest</th>\n",
       "      <th>posttest</th>\n",
       "    </tr>\n",
       "  </thead>\n",
       "  <tbody>\n",
       "    <tr>\n",
       "      <th>14</th>\n",
       "      <td>OJOBU</td>\n",
       "      <td>6U9</td>\n",
       "      <td>method_Standard</td>\n",
       "      <td>Qualifies for reduced/free lunch</td>\n",
       "      <td>-0.434681</td>\n",
       "      <td>68.0</td>\n",
       "    </tr>\n",
       "    <tr>\n",
       "      <th>147</th>\n",
       "      <td>ZMNYA</td>\n",
       "      <td>1UU</td>\n",
       "      <td>method_Standard</td>\n",
       "      <td>Qualifies for reduced/free lunch</td>\n",
       "      <td>0.814165</td>\n",
       "      <td>91.0</td>\n",
       "    </tr>\n",
       "    <tr>\n",
       "      <th>187</th>\n",
       "      <td>CUQAM</td>\n",
       "      <td>1Q1</td>\n",
       "      <td>method_Standard</td>\n",
       "      <td>Qualifies for reduced/free lunch</td>\n",
       "      <td>0.079550</td>\n",
       "      <td>74.0</td>\n",
       "    </tr>\n",
       "    <tr>\n",
       "      <th>556</th>\n",
       "      <td>ZOWMK</td>\n",
       "      <td>QA2</td>\n",
       "      <td>method_Standard</td>\n",
       "      <td>Qualifies for reduced/free lunch</td>\n",
       "      <td>-0.875450</td>\n",
       "      <td>45.0</td>\n",
       "    </tr>\n",
       "    <tr>\n",
       "      <th>577</th>\n",
       "      <td>DNQDD</td>\n",
       "      <td>ST7</td>\n",
       "      <td>method_Standard</td>\n",
       "      <td>Qualifies for reduced/free lunch</td>\n",
       "      <td>0.373396</td>\n",
       "      <td>61.0</td>\n",
       "    </tr>\n",
       "    <tr>\n",
       "      <th>914</th>\n",
       "      <td>DNQDD</td>\n",
       "      <td>2AP</td>\n",
       "      <td>method_Standard</td>\n",
       "      <td>Qualifies for reduced/free lunch</td>\n",
       "      <td>0.006088</td>\n",
       "      <td>55.0</td>\n",
       "    </tr>\n",
       "    <tr>\n",
       "      <th>1093</th>\n",
       "      <td>VKWQH</td>\n",
       "      <td>GYM</td>\n",
       "      <td>method_Standard</td>\n",
       "      <td>Qualifies for reduced/free lunch</td>\n",
       "      <td>-0.508142</td>\n",
       "      <td>51.0</td>\n",
       "    </tr>\n",
       "  </tbody>\n",
       "</table>\n",
       "</div>"
      ],
      "text/plain": [
       "     school classroom         teaching                             lunch  \\\n",
       "14    OJOBU       6U9  method_Standard  Qualifies for reduced/free lunch   \n",
       "147   ZMNYA       1UU  method_Standard  Qualifies for reduced/free lunch   \n",
       "187   CUQAM       1Q1  method_Standard  Qualifies for reduced/free lunch   \n",
       "556   ZOWMK       QA2  method_Standard  Qualifies for reduced/free lunch   \n",
       "577   DNQDD       ST7  method_Standard  Qualifies for reduced/free lunch   \n",
       "914   DNQDD       2AP  method_Standard  Qualifies for reduced/free lunch   \n",
       "1093  VKWQH       GYM  method_Standard  Qualifies for reduced/free lunch   \n",
       "\n",
       "       pretest  posttest  \n",
       "14   -0.434681      68.0  \n",
       "147   0.814165      91.0  \n",
       "187   0.079550      74.0  \n",
       "556  -0.875450      45.0  \n",
       "577   0.373396      61.0  \n",
       "914   0.006088      55.0  \n",
       "1093 -0.508142      51.0  "
      ]
     },
     "execution_count": 52,
     "metadata": {},
     "output_type": "execute_result"
    }
   ],
   "source": [
    "X_train.index = range(len(X_train))\n",
    "y_train.index = range(len(y_train))\n",
    "pd.concat((undummify(X_train).iloc[indices, :], y_train.iloc[indices]), axis = 1)"
   ]
  },
  {
   "cell_type": "code",
   "execution_count": 53,
   "metadata": {},
   "outputs": [
    {
     "data": {
      "image/png": "[encoded data removed]",
      "text/plain": [
       "<Figure size 432x288 with 1 Axes>"
      ]
     },
     "metadata": {
      "needs_background": "light"
     },
     "output_type": "display_data"
    },
    {
     "data": {
      "image/png": "[encoded data removed]",
      "text/plain": [
       "<Figure size 432x288 with 1 Axes>"
      ]
     },
     "metadata": {
      "needs_background": "light"
     },
     "output_type": "display_data"
    }
   ],
   "source": [
    "for c in [\"teaching_method\", \"lunch\"]:\n",
    "    dataset[[\"teaching_method\", \"lunch\"]].groupby(c).size().reset_index().plot.bar(c)"
   ]
  },
  {
   "cell_type": "markdown",
   "metadata": {},
   "source": [
    "All these observations had the same values for the `lunch` and `teaching_method` variables. There seems to be some imbalance in the proportion of values for these variables in the dataset. Given the importance of `teaching_method` in the prediction, we could in the future use stratification when sampling the training and test sets to make sure that we have a proportional representation.\n",
    "\n",
    "## Evaluation: learning curve\n",
    "\n",
    "In this last step we plot the learning curve for the random forest based on the complete set of chosen features. This is done by plotting the running average of the cross-validated training and test errors as we increase the size of the input dataset."
   ]
  },
  {
   "cell_type": "code",
   "execution_count": 54,
   "metadata": {},
   "outputs": [],
   "source": [
    "# Learning curve\n",
    "X_train, y_train = shuffle(X_train, y_train)"
   ]
  },
  {
   "cell_type": "code",
   "execution_count": 55,
   "metadata": {},
   "outputs": [
    {
     "name": "stderr",
     "output_type": "stream",
     "text": [
      "100%|██████████| 127/127 [07:23<00:00,  3.49s/it]\n"
     ]
    }
   ],
   "source": [
    "rf = RandomForestRegressor(**search.best_params_, random_state = 0)\n",
    "training = []\n",
    "test = []\n",
    "for i in tqdm(np.arange(10, len(X_train), 10)):\n",
    "    X_i = X_train.values[:i, :]\n",
    "    y_i = y_train[:i]\n",
    "    scores = cross_validate(rf, X_i, y_i, cv=10, return_train_score=True, scoring = \"neg_mean_absolute_error\")\n",
    "    training.append(scores[\"train_score\"])\n",
    "    test.append(scores[\"test_score\"])"
   ]
  },
  {
   "cell_type": "code",
   "execution_count": 56,
   "metadata": {},
   "outputs": [
    {
     "data": {
      "text/plain": [
       "Text(0.5, 1.0, 'learning curve')"
      ]
     },
     "execution_count": 56,
     "metadata": {},
     "output_type": "execute_result"
    },
    {
     "data": {
      "image/png": "[encoded data removed]",
      "text/plain": [
       "<Figure size 432x288 with 1 Axes>"
      ]
     },
     "metadata": {
      "needs_background": "light"
     },
     "output_type": "display_data"
    }
   ],
   "source": [
    "fig, ax = plt.subplots()\n",
    "ax.plot(np.arange(10, len(X_train), 10), -np.array(training).mean(axis=1))\n",
    "ax.plot(np.arange(10, len(X_train), 10), -np.array(test).mean(axis=1))\n",
    "ax.legend([\"training\", \"validation\"])\n",
    "ax.set_xlabel(\"dataset size\")\n",
    "ax.set_ylabel(\"mean squared error\")\n",
    "ax.set_title(\"learning curve\")"
   ]
  },
  {
   "cell_type": "markdown",
   "metadata": {},
   "source": [
    "We can see how the two lines are converging on the right hand side. This means that increasing the size of our dataset is not necessarily going to have an impact on regression accuracy. The fact that we reached convergence also indicates that the distance between training and validation errors (overfitting) is the natural overfit we can expect from our model given the total population from which we extracted our sample."
   ]
  },
  {
   "cell_type": "markdown",
   "metadata": {},
   "source": [
    "## Conclusions\n",
    "\n",
    "For this particular dataset, a simpler model (multiple linear regression) seemed to perform better than a more complex model (random forests). However, our hyperparameter tuning was not exhaustive and results could have been improved by applying gridsearch or considering other hyperparemeters as part of the search space.\n",
    "\n",
    "The pre-test score is a very good indicator of what the post-test score is going to be, but it is not the only factor. Other parameters, like the type of school or whether the student qualifies for free lunch are also important and should be considered."
   ]
  }
 ],
 "metadata": {
  "kernelspec": {
   "display_name": "Python 3",
   "language": "python",
   "name": "python3"
  },
  "language_info": {
   "codemirror_mode": {
    "name": "ipython",
    "version": 3
   },
   "file_extension": ".py",
   "mimetype": "text/x-python",
   "name": "python",
   "nbconvert_exporter": "python",
   "pygments_lexer": "ipython3",
   "version": "3.8.5"
  }
 },
 "nbformat": 4,
 "nbformat_minor": 4
}
